{
  "nbformat": 4,
  "nbformat_minor": 0,
  "metadata": {
    "colab": {
      "provenance": [],
      "authorship_tag": "ABX9TyOnb4gF+TkSz8buW8ci52LW",
      "include_colab_link": true
    },
    "kernelspec": {
      "name": "python3",
      "display_name": "Python 3"
    },
    "language_info": {
      "name": "python"
    }
  },
  "cells": [
    {
      "cell_type": "markdown",
      "metadata": {
        "id": "view-in-github",
        "colab_type": "text"
      },
      "source": [
        "<a href=\"https://colab.research.google.com/github/JayabharathiRavi/codekata_solved/blob/main/codekata_string.ipynb\" target=\"_parent\"><img src=\"https://colab.research.google.com/assets/colab-badge.svg\" alt=\"Open In Colab\"/></a>"
      ]
    },
    {
      "cell_type": "code",
      "execution_count": null,
      "metadata": {
        "id": "WEFz89m_ykZM"
      },
      "outputs": [],
      "source": []
    },
    {
      "cell_type": "markdown",
      "source": [
        "you are given a string made up of parenthesis only.Your task is to check whether parenthesis are balanced or not.If they are balanced print 1 else print 0\n",
        "\n"
      ],
      "metadata": {
        "id": "1zYAW1BKyqcL"
      }
    },
    {
      "cell_type": "code",
      "source": [
        "n = input()\n",
        "a=['(','{','[']\n",
        "b=[')','}',']']\n",
        "z=[]\n",
        "for i,j in zip(a,b):\n",
        "  if n.count(i)!=n.count(j):\n",
        "    z.append(i)\n",
        "if len(z)==0:\n",
        "  print(1)\n",
        "else:\n",
        "  print(0)"
      ],
      "metadata": {
        "colab": {
          "base_uri": "https://localhost:8080/"
        },
        "id": "v_6Ch9I6y1pD",
        "outputId": "0b1aea3b-e053-44b9-fe27-4d42b87b611a"
      },
      "execution_count": 1,
      "outputs": [
        {
          "output_type": "stream",
          "name": "stdout",
          "text": [
            "{({})}\n",
            "1\n"
          ]
        }
      ]
    },
    {
      "cell_type": "code",
      "source": [
        "def check(my_string):\n",
        "    brackets = ['()', '{}', '[]']\n",
        "    while any(x in my_string for x in brackets):\n",
        "        for br in brackets:\n",
        "            my_string = my_string.replace(br, '')\n",
        "    return not my_string\n",
        "   \n",
        "string = input()\n",
        "print(1 \n",
        "      if check(string) else 0)"
      ],
      "metadata": {
        "colab": {
          "base_uri": "https://localhost:8080/"
        },
        "id": "EUh_fUQUyrfV",
        "outputId": "cd1e7aa2-7f2f-4653-add7-2fc03db67080"
      },
      "execution_count": 2,
      "outputs": [
        {
          "output_type": "stream",
          "name": "stdout",
          "text": [
            "{({})}\n",
            "1\n"
          ]
        }
      ]
    },
    {
      "cell_type": "markdown",
      "source": [
        "You are given two numbers. Your task is to multiply the two numbers and print the answer.\n",
        "\n"
      ],
      "metadata": {
        "id": "shi5UEbXzy83"
      }
    },
    {
      "cell_type": "code",
      "source": [
        "x,y=[int(i) for i in input().split()]\n",
        "z=x*y\n",
        "print(z)"
      ],
      "metadata": {
        "colab": {
          "base_uri": "https://localhost:8080/"
        },
        "id": "tEJ2kFYLz3bT",
        "outputId": "12ae3085-aad1-415c-8d4a-26dec56d94d5"
      },
      "execution_count": 3,
      "outputs": [
        {
          "output_type": "stream",
          "name": "stdout",
          "text": [
            "99999 99998\n",
            "9999700002\n"
          ]
        }
      ]
    },
    {
      "cell_type": "markdown",
      "source": [
        "Rahul is given a task to manipulate a string, He hired you as a developer your task is to delete all the repeating characters and print the result left.\n",
        "\n"
      ],
      "metadata": {
        "id": "b0zi8uHVz8vC"
      }
    },
    {
      "cell_type": "code",
      "source": [
        "n=input()\n",
        "n=list(n)\n",
        "b=[]\n",
        "for i in n:\n",
        "    if (n.count(i)==1):\n",
        "        b.append(i)\n",
        "print(\"\".join(b))\n",
        "    "
      ],
      "metadata": {
        "colab": {
          "base_uri": "https://localhost:8080/"
        },
        "id": "3zB5P0Y0z9hV",
        "outputId": "9012d6fc-02b3-4f75-a3e6-2d020448c9e6"
      },
      "execution_count": 4,
      "outputs": [
        {
          "output_type": "stream",
          "name": "stdout",
          "text": [
            "mississipie\n",
            "mpe\n"
          ]
        }
      ]
    },
    {
      "cell_type": "markdown",
      "source": [
        "You are given a string.Your task is to print only the consonants present in the string without affecting the sentence spacings if present. If no consonants are present print -1\n",
        "\n"
      ],
      "metadata": {
        "id": "-SXOZDfd0Eag"
      }
    },
    {
      "cell_type": "code",
      "source": [
        "n=input()\n",
        "s=n.replace(' ','')\n",
        "r=len(n)-len(s)\n",
        "v=['a','e','i','o','u','A','E','I','O','U']\n",
        "m=[]\n",
        "for i in n:\n",
        "    if i not in v:\n",
        "        m.append(i)\n",
        "if len(m)==r:\n",
        "  print('-1')\n",
        "else:\n",
        "  p=(\"\".join(m))\n",
        "  print(p)"
      ],
      "metadata": {
        "colab": {
          "base_uri": "https://localhost:8080/"
        },
        "id": "Ffkt_s-70GqN",
        "outputId": "4bd42332-004f-4842-aeb9-45e07fc2cc73"
      },
      "execution_count": 5,
      "outputs": [
        {
          "output_type": "stream",
          "name": "stdout",
          "text": [
            "I am shrey \n",
            " m shry \n"
          ]
        }
      ]
    },
    {
      "cell_type": "markdown",
      "source": [
        "You are given a number with duplicate digits your task is to remove the immediate duplicate digits and print the result\n",
        "\n"
      ],
      "metadata": {
        "id": "fQaKMZdJ0KNe"
      }
    },
    {
      "cell_type": "code",
      "source": [
        "n=input()\n",
        "m=list(n)\n",
        "a=[]\n",
        "b=[]\n",
        "for i in range(len(m)-1):\n",
        "    if m[i]==m[i+1]:\n",
        "        a.extend([m[i],m[i+1]])\n",
        "for j in m:\n",
        "    if j not in a:\n",
        "        b.append(j)\n",
        "print(\"\".join(b))"
      ],
      "metadata": {
        "colab": {
          "base_uri": "https://localhost:8080/"
        },
        "id": "MWzRBbcM0UX7",
        "outputId": "e65dd6de-f4c4-4fa8-ef84-8637fc16122e"
      },
      "execution_count": 6,
      "outputs": [
        {
          "output_type": "stream",
          "name": "stdout",
          "text": [
            "1331\n",
            "11\n"
          ]
        }
      ]
    },
    {
      "cell_type": "markdown",
      "source": [
        " Jennyfer is fond of strings. She wants to read the character from right to left (reverse the string), so she wants you to design a suitable algorithm which satisfy her desire.\n",
        "\n"
      ],
      "metadata": {
        "id": "GkgcT7Ob0biu"
      }
    },
    {
      "cell_type": "code",
      "source": [
        "txt =input()[::-1]\n",
        "txt1=txt.capitalize()\n",
        "print(txt1)"
      ],
      "metadata": {
        "colab": {
          "base_uri": "https://localhost:8080/"
        },
        "id": "NRuoGQZi0cbv",
        "outputId": "d96853b1-5a23-492b-e0fd-f01c4fffd0b0"
      },
      "execution_count": 7,
      "outputs": [
        {
          "output_type": "stream",
          "name": "stdout",
          "text": [
            "jennyfer\n",
            "Refynnej\n"
          ]
        }
      ]
    },
    {
      "cell_type": "markdown",
      "source": [
        "In XYZ country there is rule that car’s engine no. depends upon car’ number plate. Engine no is sum of all the integers present on car’s Number plate.The issuing authority has hired you in order to provide engine no. to the cars.Your task is to develop an algorithm which takes input as in form of string(Number plate) and gives back\n",
        "\n"
      ],
      "metadata": {
        "id": "WmYU-C8-0hXe"
      }
    },
    {
      "cell_type": "code",
      "source": [
        "n=input()\n",
        "a=[]\n",
        "sum=0\n",
        "for i in n:\n",
        "    if i.isnumeric()==True:\n",
        "        a.append(i)\n",
        "for j in a:\n",
        "    j=int(j)\n",
        "    sum=sum+j\n",
        "print(sum)"
      ],
      "metadata": {
        "colab": {
          "base_uri": "https://localhost:8080/"
        },
        "id": "W9NZJR400joB",
        "outputId": "c755dc56-219f-45b9-9cb9-501986c49bd6"
      },
      "execution_count": 8,
      "outputs": [
        {
          "output_type": "stream",
          "name": "stdout",
          "text": [
            "HR05-AA-2669\n",
            "28\n"
          ]
        }
      ]
    },
    {
      "cell_type": "markdown",
      "source": [
        "Joyal was given a sentence. His task is to delete the two words that comes together and print the sentence so that the words in the output sentence have distinct words compared to their adjacent words. If no words are present in the output sentence print -1\n",
        "\n"
      ],
      "metadata": {
        "id": "aqti6fQD0oAV"
      }
    },
    {
      "cell_type": "code",
      "source": [
        "n=input().split()\n",
        "s=list('o')+n.copy()\n",
        "rep=[]\n",
        "norep=[]\n",
        "for j in range(len(s)+1):\n",
        "    a1=[]\n",
        "    for i in range(len(s)-2):\n",
        "        #print(s[i+1],n[i+1])\n",
        "        if s[i+1]==n[i+1]:\n",
        "            rep.append([n.index(s[i+1]),n.index(n[i+1])])\n",
        "            a1.append([(s[i+1]),(n[i+1])])\n",
        "        else:\n",
        "          norep.append([n.index(s[i+1]),n.index(n[i+1])])\n",
        "        for k in a1:\n",
        "            if k[0] in s:\n",
        "                s.remove(k[0])\n",
        " \n",
        "#print(rep,s)\n",
        "#print(a1,l)\n",
        "if len(rep)!=0:\n",
        "    print(*s[1:(rep[-1][0])+1])\n",
        "else:\n",
        "    print(*n)"
      ],
      "metadata": {
        "colab": {
          "base_uri": "https://localhost:8080/"
        },
        "id": "nad7w-ak0q2b",
        "outputId": "9ef0f4ef-e2b6-4457-a815-9af47fd959bf"
      },
      "execution_count": 9,
      "outputs": [
        {
          "output_type": "stream",
          "name": "stdout",
          "text": [
            "I am john cena cena john\n",
            "I am\n"
          ]
        }
      ]
    },
    {
      "cell_type": "markdown",
      "source": [
        " Radha newly learnt about palindromic strings.A palindromic string is a string which is same when read from left to right and also from right to left.Help her in implementing the logic.\n",
        "\n"
      ],
      "metadata": {
        "id": "JYokXGSk0vb_"
      }
    },
    {
      "cell_type": "code",
      "source": [
        "string=input()  \n",
        "if(string==string[::-1]):  \n",
        "      print(\"1\")  \n",
        "else:  \n",
        "      print(\"0\")  \n"
      ],
      "metadata": {
        "colab": {
          "base_uri": "https://localhost:8080/"
        },
        "id": "kVrdEvTL0zs-",
        "outputId": "ee16dfda-4c00-49ce-b31c-f7323f5475a8"
      },
      "execution_count": 10,
      "outputs": [
        {
          "output_type": "stream",
          "name": "stdout",
          "text": [
            "NITIN\n",
            "1\n"
          ]
        }
      ]
    },
    {
      "cell_type": "markdown",
      "source": [
        "You are given a paragraph.Your task is to print the words that come just after articles.\n",
        "\n"
      ],
      "metadata": {
        "id": "9EQHs7Q805GA"
      }
    },
    {
      "cell_type": "code",
      "source": [
        "a=[x for x in input().split()]\n",
        "art=['the','The','A','An','a','an']\n",
        "b=[]\n",
        "for i in range(len(a)-1):\n",
        "    if a[i] in art:\n",
        "        b.append(a[i+1])\n",
        "print(*(b))\n"
      ],
      "metadata": {
        "colab": {
          "base_uri": "https://localhost:8080/"
        },
        "id": "8x_ONR2R052e",
        "outputId": "af0f4ecf-5498-4691-f42a-fbb50bc517e9"
      },
      "execution_count": 11,
      "outputs": [
        {
          "output_type": "stream",
          "name": "stdout",
          "text": [
            "The sun rises in the east\n",
            "sun east\n"
          ]
        }
      ]
    },
    {
      "cell_type": "markdown",
      "source": [
        "Given a string 'S' print the sum of weight of the String. A weight of character is defined as the ASCII value of corresponding character.\n",
        "\n"
      ],
      "metadata": {
        "id": "mDGhqUCu1BA3"
      }
    },
    {
      "cell_type": "code",
      "source": [
        "n=input()\n",
        "a=[]\n",
        "for i in n:\n",
        "    a.append(ord(i))\n",
        "sum=0\n",
        "for j in a:\n",
        "    j=int(j)\n",
        "    sum=sum+j\n",
        "print(sum)"
      ],
      "metadata": {
        "colab": {
          "base_uri": "https://localhost:8080/"
        },
        "id": "uxzsKxnm1C_W",
        "outputId": "03245799-0ebe-4113-c972-8717ff6e0b00"
      },
      "execution_count": 12,
      "outputs": [
        {
          "output_type": "stream",
          "name": "stdout",
          "text": [
            "abc\n",
            "294\n"
          ]
        }
      ]
    }
  ]
}