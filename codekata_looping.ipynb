{
  "nbformat": 4,
  "nbformat_minor": 0,
  "metadata": {
    "colab": {
      "name": "codekata_looping.ipynb",
      "provenance": [],
      "authorship_tag": "ABX9TyNMzy8MnOCyU+PU2OA2PD7f",
      "include_colab_link": true
    },
    "kernelspec": {
      "name": "python3",
      "display_name": "Python 3"
    },
    "language_info": {
      "name": "python"
    }
  },
  "cells": [
    {
      "cell_type": "markdown",
      "metadata": {
        "id": "view-in-github",
        "colab_type": "text"
      },
      "source": [
        "<a href=\"https://colab.research.google.com/github/JayabharathiRavi/codekata_solved/blob/main/codekata_looping.ipynb\" target=\"_parent\"><img src=\"https://colab.research.google.com/assets/colab-badge.svg\" alt=\"Open In Colab\"/></a>"
      ]
    },
    {
      "cell_type": "code",
      "execution_count": null,
      "metadata": {
        "id": "QPmuXFPAWb1l"
      },
      "outputs": [],
      "source": [
        "##Looping"
      ]
    },
    {
      "cell_type": "markdown",
      "source": [
        "Write a code to get an integer N and print the sum of  values from 1 to N.\n",
        "\n"
      ],
      "metadata": {
        "id": "h6Z-xwb5XIqs"
      }
    },
    {
      "cell_type": "code",
      "source": [
        "\n",
        "number=int(input())\n",
        "sum = 0\n",
        "for value in range(1, number + 1):\n",
        "    sum = sum + value\n",
        "print(sum)"
      ],
      "metadata": {
        "colab": {
          "base_uri": "https://localhost:8080/"
        },
        "id": "bxD5XaK6XOow",
        "outputId": "ddcd7d75-b0e8-45c6-a485-c802edee3970"
      },
      "execution_count": 1,
      "outputs": [
        {
          "output_type": "stream",
          "name": "stdout",
          "text": [
            "10\n",
            "55\n"
          ]
        }
      ]
    },
    {
      "cell_type": "markdown",
      "source": [
        "Write a code to get 2 integers as input and add the integers without any carry.\n",
        "\n"
      ],
      "metadata": {
        "id": "j1rvX5fgXUQ0"
      }
    },
    {
      "cell_type": "code",
      "source": [
        "import math\n",
        "\n",
        "def add(n, m) :\n",
        "\n",
        "\tres = 0\n",
        "\tmultiplier = 1\n",
        "\tbit_sum = 0\n",
        "\twhile (n or m) :\n",
        "\t\tbit_sum = ((n % 10) +\n",
        "\t\t\t\t(m % 10))\n",
        "\t\tbit_sum = bit_sum % 10\n",
        "\t\t\n",
        "\t\tres = (bit_sum *multiplier) + res\n",
        "\t\tn = math.floor(n / 10)\n",
        "\t\tm = math.floor(m / 10)\n",
        "\t\t\n",
        "\t\tmultiplier = multiplier * 10\n",
        "\t\n",
        "\treturn res\n",
        "\n",
        "n,m =(int(x)for x in input().split())\n",
        "print (add(n, m))\n"
      ],
      "metadata": {
        "colab": {
          "base_uri": "https://localhost:8080/"
        },
        "id": "m-1Ru09aXcuh",
        "outputId": "1672f1f6-bd51-4fe8-9aa4-07e574232c0d"
      },
      "execution_count": 3,
      "outputs": [
        {
          "output_type": "stream",
          "name": "stdout",
          "text": [
            "44 66\n",
            "0\n"
          ]
        }
      ]
    },
    {
      "cell_type": "markdown",
      "source": [
        "Write a code to get an integer N and print the digits of the integer.\n",
        "\n"
      ],
      "metadata": {
        "id": "Wk5dorQnXyoz"
      }
    },
    {
      "cell_type": "code",
      "source": [
        "a=input()\n",
        "print(*a)"
      ],
      "metadata": {
        "colab": {
          "base_uri": "https://localhost:8080/"
        },
        "id": "Or96kSCiX4qM",
        "outputId": "5e9dab32-72a2-4e3d-cc82-192bddfae0e7"
      },
      "execution_count": 4,
      "outputs": [
        {
          "output_type": "stream",
          "name": "stdout",
          "text": [
            "3 4 8\n",
            "3   4   8\n"
          ]
        }
      ]
    },
    {
      "cell_type": "markdown",
      "source": [
        "Write a code to get an integer N and print the values from N to 1.\n",
        "\n"
      ],
      "metadata": {
        "id": "XzZrih_yX8wL"
      }
    },
    {
      "cell_type": "code",
      "source": [
        "n=int(input())\n",
        "i = n\n",
        "while ( i >= 1):\n",
        "    print (i)\n",
        "    i = i - 1"
      ],
      "metadata": {
        "colab": {
          "base_uri": "https://localhost:8080/"
        },
        "id": "FOP7OvTMYEjR",
        "outputId": "2d9f2973-b23f-451a-830f-ad8dacf066fd"
      },
      "execution_count": 14,
      "outputs": [
        {
          "output_type": "stream",
          "name": "stdout",
          "text": [
            "10\n",
            "10\n",
            "9\n",
            "8\n",
            "7\n",
            "6\n",
            "5\n",
            "4\n",
            "3\n",
            "2\n",
            "1\n"
          ]
        }
      ]
    },
    {
      "cell_type": "markdown",
      "source": [
        "Write a code get an integer number as input and print the odd and even digits of the number separately.\n",
        "\n"
      ],
      "metadata": {
        "id": "1LBYnnJLY8LT"
      }
    },
    {
      "cell_type": "code",
      "source": [
        "n=input()\n",
        "even=[]\n",
        "odd=[]\n",
        "for i in n:\n",
        "    if (int(i))%2==0:\n",
        "        even.append(i)\n",
        "    else:\n",
        "        odd.append(i)\n",
        "even.sort()\n",
        "odd.sort()\n",
        "print(*even)\n",
        "print(*odd)"
      ],
      "metadata": {
        "colab": {
          "base_uri": "https://localhost:8080/"
        },
        "id": "UHVvANoyZEn4",
        "outputId": "1bac304a-a15f-4af6-c2cb-59fbd99b9bbe"
      },
      "execution_count": 15,
      "outputs": [
        {
          "output_type": "stream",
          "name": "stdout",
          "text": [
            "1234\n",
            "2 4\n",
            "1 3\n"
          ]
        }
      ]
    },
    {
      "cell_type": "markdown",
      "source": [
        "Write a code to get the input and print it 5 times.\n",
        "\n"
      ],
      "metadata": {
        "id": "8POujiIwZK5l"
      }
    },
    {
      "cell_type": "code",
      "source": [
        "a=int(input())\n",
        "for x in range(5):\n",
        "    print(a)"
      ],
      "metadata": {
        "colab": {
          "base_uri": "https://localhost:8080/"
        },
        "id": "Mmi9vv7SZP-H",
        "outputId": "b0990c56-2237-4070-d995-849597a8d4a0"
      },
      "execution_count": 18,
      "outputs": [
        {
          "output_type": "stream",
          "name": "stdout",
          "text": [
            "4\n",
            "4\n",
            "4\n",
            "4\n",
            "4\n",
            "4\n"
          ]
        }
      ]
    },
    {
      "cell_type": "markdown",
      "source": [
        "Write a code to get a integer n as input and calculate the smallest perfect power of 2 greater than n.\n",
        "\n"
      ],
      "metadata": {
        "id": "qZSDdSaGZpJX"
      }
    },
    {
      "cell_type": "code",
      "source": [
        "def perfectPowerOf2( n ):\n",
        "     \n",
        "    per_pow = 1\n",
        "     \n",
        "    while n > 0:\n",
        "        per_pow = per_pow << 1\n",
        "        n = n >> 1\n",
        "         \n",
        "    return per_pow\n",
        " \n",
        "n = int(input())\n",
        "print(perfectPowerOf2(n))"
      ],
      "metadata": {
        "colab": {
          "base_uri": "https://localhost:8080/"
        },
        "id": "lcIMFotnZzJI",
        "outputId": "0426f7da-f27a-422b-8de2-67001ac159cc"
      },
      "execution_count": 19,
      "outputs": [
        {
          "output_type": "stream",
          "name": "stdout",
          "text": [
            "48\n",
            "64\n"
          ]
        }
      ]
    },
    {
      "cell_type": "markdown",
      "source": [
        "Write a code to get 2 integers as input and find the HCF of the 2 integer without using recursion or Euclidean algorithm.\n",
        "\n"
      ],
      "metadata": {
        "id": "mj4IGIriaGTp"
      }
    },
    {
      "cell_type": "code",
      "source": [
        "x,y=(int(i) for i in input().split())\n",
        "if x>y:\n",
        "  small=y\n",
        "else:\n",
        "  small=x\n",
        "for i in range(1,small+1):\n",
        "  if x%i==0 and y%i==0:\n",
        "    hcf=i\n",
        "print(hcf)"
      ],
      "metadata": {
        "colab": {
          "base_uri": "https://localhost:8080/"
        },
        "id": "32K--PtNaMj1",
        "outputId": "57a7cc82-57cc-483b-e699-812ec32b0e2a"
      },
      "execution_count": 20,
      "outputs": [
        {
          "output_type": "stream",
          "name": "stdout",
          "text": [
            "2 3\n",
            "1\n"
          ]
        }
      ]
    },
    {
      "cell_type": "markdown",
      "source": [
        "Write a code to get an integer N and print values from 1 till N in a separate line.\n",
        "\n"
      ],
      "metadata": {
        "id": "REi-W3pXaGOa"
      }
    },
    {
      "cell_type": "code",
      "source": [
        "n=int(input())\n",
        "for i in range(1,n+1):\n",
        "  print(i)"
      ],
      "metadata": {
        "colab": {
          "base_uri": "https://localhost:8080/"
        },
        "id": "eE6XQ_yFaWTq",
        "outputId": "22bc295b-2063-41ef-c431-d089277e5915"
      },
      "execution_count": 21,
      "outputs": [
        {
          "output_type": "stream",
          "name": "stdout",
          "text": [
            "5\n",
            "1\n",
            "2\n",
            "3\n",
            "4\n",
            "5\n"
          ]
        }
      ]
    },
    {
      "cell_type": "markdown",
      "source": [
        "Write a program to get a string as input and reverse the string without using temporary variable.\n",
        "\n"
      ],
      "metadata": {
        "id": "wBeUP2f_aGNc"
      }
    },
    {
      "cell_type": "code",
      "source": [
        "n=input()\n",
        "print(n[::-1])"
      ],
      "metadata": {
        "colab": {
          "base_uri": "https://localhost:8080/"
        },
        "id": "rgCyoPlJake1",
        "outputId": "92eb22cc-fa18-459f-ad65-9e22449bee4a"
      },
      "execution_count": 22,
      "outputs": [
        {
          "output_type": "stream",
          "name": "stdout",
          "text": [
            "guvi\n",
            "ivug\n"
          ]
        }
      ]
    },
    {
      "cell_type": "markdown",
      "source": [
        "Write a code to get 2 integers A and N. Print the integer A, N times in separate line.\n",
        "\n"
      ],
      "metadata": {
        "id": "CT3FBW10aGHo"
      }
    },
    {
      "cell_type": "code",
      "source": [
        "a,b=[int(x) for x in input().split()]\n",
        "for x in range(b):\n",
        "    print(a)"
      ],
      "metadata": {
        "colab": {
          "base_uri": "https://localhost:8080/"
        },
        "id": "J6Z5U-a0a0i3",
        "outputId": "4531f6ec-df93-49be-f0ac-1b464908be23"
      },
      "execution_count": 23,
      "outputs": [
        {
          "output_type": "stream",
          "name": "stdout",
          "text": [
            "2 3\n",
            "2\n",
            "2\n",
            "2\n"
          ]
        }
      ]
    },
    {
      "cell_type": "markdown",
      "source": [
        "Write a code get an integer number as input and print the sum of the digits.\n",
        "\n"
      ],
      "metadata": {
        "id": "LsPQbMf1aGGn"
      }
    },
    {
      "cell_type": "code",
      "source": [
        "number =input()\n",
        "sum_of_digits = 0\n",
        "for digit in str(number):\n",
        "    sum_of_digits += int(digit)\n",
        "print(sum_of_digits)"
      ],
      "metadata": {
        "colab": {
          "base_uri": "https://localhost:8080/"
        },
        "id": "F3kHtv-UbGtM",
        "outputId": "b58c36a6-e597-4abc-dae0-6efc110a2a87"
      },
      "execution_count": 24,
      "outputs": [
        {
          "output_type": "stream",
          "name": "stdout",
          "text": [
            "124\n",
            "7\n"
          ]
        }
      ]
    },
    {
      "cell_type": "markdown",
      "source": [
        "Write a program to get a list of integers as input and find the LCM of the values without using GCD\n",
        "\n"
      ],
      "metadata": {
        "id": "r4HAtrgxaGAc"
      }
    },
    {
      "cell_type": "code",
      "source": [
        "l = list(map(int,input().split()))\n",
        "def lcm(a, b):\n",
        "    if a > b:\n",
        "        g = a\n",
        "    else:\n",
        "        g = b\n",
        "    while True:\n",
        "        if g%a==0 and g%b==0:\n",
        "            lcm = g\n",
        "            break\n",
        "        g += 1\n",
        "    return lcm\n",
        "if len(l) == 2:\n",
        "    ans = lcm(l[0], l[1])\n",
        "else:\n",
        "    ans = lcm(l[0], l[1])\n",
        "    for i in range(2, len(l)):\n",
        "        ans = lcm(ans, l[i])\n",
        "print(ans)"
      ],
      "metadata": {
        "colab": {
          "base_uri": "https://localhost:8080/"
        },
        "id": "6gPNeU8abWQN",
        "outputId": "7770deda-01a1-43f7-b59c-b6609215fd9f"
      },
      "execution_count": 27,
      "outputs": [
        {
          "output_type": "stream",
          "name": "stdout",
          "text": [
            "1 2 3 4 5\n",
            "60\n"
          ]
        }
      ]
    },
    {
      "cell_type": "markdown",
      "source": [
        "Write a code to get an integer N and print the even values from 1 till N in a separate line.\n",
        "\n"
      ],
      "metadata": {
        "id": "mQlbRgwLaF_b"
      }
    },
    {
      "cell_type": "code",
      "source": [
        "n = int(input())\n",
        "for number in range(1, n+1):\n",
        "    if(number % 2 == 0):\n",
        "        print(number)"
      ],
      "metadata": {
        "colab": {
          "base_uri": "https://localhost:8080/"
        },
        "id": "bAnjxY1zcAhw",
        "outputId": "33e6e129-57f5-4b5f-d20b-956749c0a3a0"
      },
      "execution_count": 29,
      "outputs": [
        {
          "output_type": "stream",
          "name": "stdout",
          "text": [
            "6\n",
            "2\n",
            "4\n",
            "6\n"
          ]
        }
      ]
    },
    {
      "cell_type": "markdown",
      "source": [
        "                                                      Thank you, Bye:)"
      ],
      "metadata": {
        "id": "GRZ1CDKIaF24"
      }
    }
  ]
}