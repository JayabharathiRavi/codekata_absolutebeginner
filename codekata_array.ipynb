{
  "nbformat": 4,
  "nbformat_minor": 0,
  "metadata": {
    "colab": {
      "provenance": [],
      "authorship_tag": "ABX9TyOISb21SBlR4wMR4BHtkglT",
      "include_colab_link": true
    },
    "kernelspec": {
      "name": "python3",
      "display_name": "Python 3"
    },
    "language_info": {
      "name": "python"
    }
  },
  "cells": [
    {
      "cell_type": "markdown",
      "metadata": {
        "id": "view-in-github",
        "colab_type": "text"
      },
      "source": [
        "<a href=\"https://colab.research.google.com/github/JayabharathiRavi/codekata_solved/blob/main/codekata_array.ipynb\" target=\"_parent\"><img src=\"https://colab.research.google.com/assets/colab-badge.svg\" alt=\"Open In Colab\"/></a>"
      ]
    },
    {
      "cell_type": "markdown",
      "source": [
        "1. You are given an array of ids of prisoners. The jail authority found that there are some prisoners of same id. Your task is to help the authority in finding the common ids."
      ],
      "metadata": {
        "id": "4LIqBuZJlrHw"
      }
    },
    {
      "cell_type": "code",
      "execution_count": null,
      "metadata": {
        "colab": {
          "base_uri": "https://localhost:8080/"
        },
        "id": "bKl1XhAmc2fc",
        "outputId": "3b1d097f-5171-4aa2-82cf-960ad1f7f84d"
      },
      "outputs": [
        {
          "output_type": "stream",
          "name": "stdout",
          "text": [
            "7\n",
            "1 1 11 121 131 141 98\n",
            "1\n"
          ]
        }
      ],
      "source": [
        "n=input()\n",
        "a=(int(x) for x in input().split())\n",
        "x=list(a)\n",
        "c=[]\n",
        "for i in x:\n",
        "    if x.count(i)>=2:\n",
        "        if i not in c:\n",
        "            c.append(i)\n",
        "if len(c)>=1:\n",
        "    print(*c)"
      ]
    },
    {
      "cell_type": "markdown",
      "source": [
        "2. You are given an array. Your task is to sort the array in given manner. Print the elements in increasing order of the frequency. If frequency is same print smaller one first.\n",
        "\n"
      ],
      "metadata": {
        "id": "m14XBj3JmT8t"
      }
    },
    {
      "cell_type": "code",
      "source": [
        "n=input()\n",
        "x=list(int(x) for x in input().split())\n",
        "a=[]\n",
        "for i in x:\n",
        "    if i not in a:\n",
        "        a.append(i)\n",
        "print(*a[::-1])"
      ],
      "metadata": {
        "colab": {
          "base_uri": "https://localhost:8080/"
        },
        "id": "h6fN4mmUmXJP",
        "outputId": "67eaa466-eff0-4767-cd99-4ff4be7c3a47"
      },
      "execution_count": null,
      "outputs": [
        {
          "output_type": "stream",
          "name": "stdout",
          "text": [
            "4\n",
            "1 1 3 2\n",
            "2 3 1\n"
          ]
        }
      ]
    },
    {
      "cell_type": "markdown",
      "source": [
        "3. you are given with array of numbers.you have to find whether array is beautiful or not. A beautiful array is an array whose sum of all numbers is divisible by 2, 3 and 5\n"
      ],
      "metadata": {
        "id": "8rmCOyufmYQ9"
      }
    },
    {
      "cell_type": "code",
      "source": [
        "n=input()\n",
        "arr=(x for x in input().split())\n",
        "for i in arr:\n",
        "    sum=0\n",
        "    sum=sum+int(i)\n",
        "if sum%2==0:\n",
        "\n",
        "    if sum%3==0:\n",
        "        if sum%5==0:\n",
        "            print(\"1\")\n",
        "else:\n",
        "    print(\"0\")"
      ],
      "metadata": {
        "colab": {
          "base_uri": "https://localhost:8080/"
        },
        "id": "qOmArXWFmX3P",
        "outputId": "72dcdb88-a79f-4050-e56c-7b9492fd6a46"
      },
      "execution_count": null,
      "outputs": [
        {
          "output_type": "stream",
          "name": "stdout",
          "text": [
            "5\n",
            "5 25 35 -5 30\n",
            "1\n"
          ]
        }
      ]
    },
    {
      "cell_type": "markdown",
      "source": [
        "4. You are given with an circular array .Your task is calculate the difference between two consecutive number. And if difference is greater than ‘k’, print 1 else print 0\n",
        "\n"
      ],
      "metadata": {
        "id": "zZdcbAscnDBV"
      }
    },
    {
      "cell_type": "code",
      "source": [
        "\n",
        "n, k = map(int,input().split())\n",
        "a = list(map(int,input().split()))\n",
        "arr = []\n",
        "for i in range(n-1):\n",
        "    if abs(a[i]-a[i+1]) > k:\n",
        "        arr.append(1)\n",
        "    else:\n",
        "        arr.append(0)\n",
        "arr1= a[-1]-a[0] \n",
        "if abs(arr1) >k:\n",
        "    arr.append(1)\n",
        "else:\n",
        "    arr.append(0)\n",
        "print(*arr)    "
      ],
      "metadata": {
        "colab": {
          "base_uri": "https://localhost:8080/"
        },
        "id": "Rrfmrux8mXxX",
        "outputId": "d78b126d-7961-46e7-e435-9727921cc9f7"
      },
      "execution_count": null,
      "outputs": [
        {
          "output_type": "stream",
          "name": "stdout",
          "text": [
            "5 15\n",
            "50 65 85 98 35\n",
            "0 1 0 1 0\n"
          ]
        }
      ]
    },
    {
      "cell_type": "markdown",
      "source": [
        "5. Assume you are a student studying in school.You are given a task to find first negative integer for each and every window of size k.\n",
        "\n"
      ],
      "metadata": {
        "id": "aYMJDUVFnQUj"
      }
    },
    {
      "cell_type": "code",
      "source": [
        "n=int(input())\n",
        "x=list(int(x) for x in input().split())\n",
        "k=int(input())\n",
        "a=[]\n",
        "b=[]\n",
        "for i in range(n):\n",
        "    a1=x[i:k+i]\n",
        "    for j in a1:\n",
        "        if j<0:\n",
        "            a.append(j)\n",
        "            break\n",
        "for j in x:\n",
        "  if j>0:\n",
        "    b.append(j)\n",
        "z=(n-k)+1\n",
        "r=[]\n",
        "if len(b)== len(x):\n",
        "  for k in range(z):\n",
        "    r.append(0)\n",
        "\n",
        "if len(a)!=0:\n",
        "  print(*a[:-(k-1)])\n",
        "else:\n",
        "  print(*r)"
      ],
      "metadata": {
        "colab": {
          "base_uri": "https://localhost:8080/"
        },
        "id": "ZzDDYieUmXwc",
        "outputId": "fbcafd87-d8a0-4495-f572-cc43e58d7765"
      },
      "execution_count": null,
      "outputs": [
        {
          "output_type": "stream",
          "name": "stdout",
          "text": [
            "7\n",
            "1 -2 -3 -4 5 6 -7\n",
            "3\n",
            "-2 -2 -3 -4 -7\n"
          ]
        }
      ]
    },
    {
      "cell_type": "markdown",
      "source": [
        "6. You are provided with an array in which all elements are repeated thrice except one which is repeated twice.Your task is to print that number."
      ],
      "metadata": {
        "id": "gQXUvkt00I93"
      }
    },
    {
      "cell_type": "code",
      "source": [
        "n=input()\n",
        "arr=[int(i) for i in input().split()]\n",
        "for x in set(arr):\n",
        "  if arr.count(x)==2:\n",
        "    a=[]\n",
        "    a.append(x)\n",
        "    print(*a)"
      ],
      "metadata": {
        "id": "Y991ONBVmXql",
        "colab": {
          "base_uri": "https://localhost:8080/"
        },
        "outputId": "76488b96-30eb-4341-bfbb-c09fd3b05ea2"
      },
      "execution_count": 1,
      "outputs": [
        {
          "output_type": "stream",
          "name": "stdout",
          "text": [
            "5\n",
            "13 12 13 12 13\n",
            "12\n"
          ]
        }
      ]
    },
    {
      "cell_type": "markdown",
      "source": [
        "7. You are given an array of numbers. Print the least occurring element. If there is more than 1 element print all of them in decreasing order of their value."
      ],
      "metadata": {
        "id": "7qTtKj122F0R"
      }
    },
    {
      "cell_type": "code",
      "source": [
        "n=input()\n",
        "x=list(int(x) for x in input().split())\n",
        "c=[]\n",
        "for i in x:\n",
        "   if x.count(i)==1:\n",
        "    c.append(i)\n",
        "a=sorted(c,reverse=True)\n",
        "print(*a)"
      ],
      "metadata": {
        "colab": {
          "base_uri": "https://localhost:8080/"
        },
        "id": "jO7Ata8s2GHh",
        "outputId": "e5550503-abfa-49c4-d9c9-10cb392ae24b"
      },
      "execution_count": 3,
      "outputs": [
        {
          "output_type": "stream",
          "name": "stdout",
          "text": [
            "9\n",
            "1 6 4 56 56 56 6 4 2\n",
            "2 1\n"
          ]
        }
      ]
    },
    {
      "cell_type": "markdown",
      "source": [
        "8. You are given with an array of numbers, Your task is to print the difference of indices of largest and smallest number.All number are unique."
      ],
      "metadata": {
        "id": "eG2gZt6F0XRl"
      }
    },
    {
      "cell_type": "code",
      "source": [
        "n=int(input())\n",
        "arr=list(map(int,input().split()))\n",
        "p=arr.index(max(arr))-arr.index(min(arr))\n",
        "print(p)"
      ],
      "metadata": {
        "id": "3_ge6259mXpr",
        "colab": {
          "base_uri": "https://localhost:8080/"
        },
        "outputId": "a05e45f2-79c4-4a5a-8c7c-eec0442aa0b0"
      },
      "execution_count": 2,
      "outputs": [
        {
          "output_type": "stream",
          "name": "stdout",
          "text": [
            "5\n",
            "1 6 4 0 3\n",
            "-2\n"
          ]
        }
      ]
    },
    {
      "cell_type": "markdown",
      "source": [
        "9. You are given an array of non-negative integers representing height of walls at index i as Ai and the width of each block is 1. Compute how much air can be encapsulated between the walls of chamber."
      ],
      "metadata": {
        "id": "n2cXuqni2Q69"
      }
    },
    {
      "cell_type": "code",
      "source": [
        "n =int(input())\n",
        "l = [int(x) for x in input().split()]\n",
        "ans = 0\n",
        "for i in range(1, len(l)-1):\n",
        "    if l[i] < l[i-1] and l[i] < l[i+1]:\n",
        "        ans += min(l[i+1], l[i-1]) - l[i]\n",
        "print(ans)"
      ],
      "metadata": {
        "colab": {
          "base_uri": "https://localhost:8080/"
        },
        "id": "SXl21LMp2Qqu",
        "outputId": "9961b0f2-0f30-473b-e95a-b87ddc87697c"
      },
      "execution_count": 4,
      "outputs": [
        {
          "output_type": "stream",
          "name": "stdout",
          "text": [
            "3\n",
            "7 4 9\n",
            "3\n"
          ]
        }
      ]
    },
    {
      "cell_type": "markdown",
      "source": [
        "10. You are given a number with duplicate digits your task is to remove the immediate duplicate digits and print the result"
      ],
      "metadata": {
        "id": "WV-Qov6I2aZu"
      }
    },
    {
      "cell_type": "code",
      "source": [
        "n=input()\n",
        "m=list(n)\n",
        "a=[]\n",
        "b=[]\n",
        "for i in range(len(m)-1):\n",
        "    if m[i]==m[i+1]:\n",
        "        a.extend([m[i],m[i+1]])\n",
        "for j in m:\n",
        "    if j not in a:\n",
        "        b.append(j)\n",
        "print(\"\".join(b))"
      ],
      "metadata": {
        "colab": {
          "base_uri": "https://localhost:8080/"
        },
        "id": "RPQJq9RK2de-",
        "outputId": "9f6c591c-3b50-4127-aaad-75604d501793"
      },
      "execution_count": 5,
      "outputs": [
        {
          "output_type": "stream",
          "name": "stdout",
          "text": [
            "1331\n",
            "11\n"
          ]
        }
      ]
    },
    {
      "cell_type": "markdown",
      "source": [
        "11. You are a passport issuer, but due to some problems in the system, there are redundant  passport numbers. Your task is to delete all the duplicate passport numbers. You are given a list of passport numbers."
      ],
      "metadata": {
        "id": "3NEumzYl2iEG"
      }
    },
    {
      "cell_type": "code",
      "source": [
        "n=input()\n",
        "x=list((x) for x in input().split())\n",
        "b=[]\n",
        "for i in x:\n",
        "    if i not in b:\n",
        "        b.append(i)\n",
        "print(*b)"
      ],
      "metadata": {
        "colab": {
          "base_uri": "https://localhost:8080/"
        },
        "id": "_A7xehik2lKu",
        "outputId": "044988f9-c214-4373-9620-d3650da574c1"
      },
      "execution_count": 6,
      "outputs": [
        {
          "output_type": "stream",
          "name": "stdout",
          "text": [
            "5\n",
            "A23 B56 B56 C79 D16\n",
            "A23 B56 C79 D16\n"
          ]
        }
      ]
    },
    {
      "cell_type": "markdown",
      "source": [
        "12. Pk finds it difficult to judge the minimum element in the list of elements given to him. Your task is to develop the algorithm in order to find the minimum element.\n",
        "\n",
        " \n",
        "\n",
        "Note:Don’t use sorting"
      ],
      "metadata": {
        "id": "Qg0Ga7ur2pwP"
      }
    },
    {
      "cell_type": "code",
      "source": [
        "n=input()\n",
        "x=list(int(x) for x in input().split())\n",
        "print(min(x))"
      ],
      "metadata": {
        "colab": {
          "base_uri": "https://localhost:8080/"
        },
        "id": "Hm3kyh5b2unv",
        "outputId": "303024f1-02fe-49cf-aa32-00ee81cf4020"
      },
      "execution_count": 7,
      "outputs": [
        {
          "output_type": "stream",
          "name": "stdout",
          "text": [
            "5\n",
            "3 4 9 1 6\n",
            "1\n"
          ]
        }
      ]
    },
    {
      "cell_type": "markdown",
      "source": [
        "13. Given 2 numbers N and K followed by elements of N .Print 'yes' if K exists else print 'no'."
      ],
      "metadata": {
        "id": "vjZmFqyB2zVd"
      }
    },
    {
      "cell_type": "code",
      "source": [
        "n,k=(x for x in input().split())\n",
        "x=(x for x in input().split())\n",
        "list=list(x)\n",
        "if k in list:\n",
        "    print(\"yes\")\n",
        "else:\n",
        "    print('no')"
      ],
      "metadata": {
        "colab": {
          "base_uri": "https://localhost:8080/"
        },
        "id": "dy-d1dBi22v9",
        "outputId": "c1c5663d-1528-4ee1-b33b-099b0d16bb19"
      },
      "execution_count": 8,
      "outputs": [
        {
          "output_type": "stream",
          "name": "stdout",
          "text": [
            "4 2\n",
            "1 2 3 3\n",
            "yes\n"
          ]
        }
      ]
    },
    {
      "cell_type": "markdown",
      "source": [
        "14. Shreya is a brilliant girl. She likes to memorize the numbers. These numbers will be shown to her. As an examiner develop an algorithm to test her memory."
      ],
      "metadata": {
        "id": "46sxo1yY27XX"
      }
    },
    {
      "cell_type": "code",
      "source": [
        "n=[(map(int,input().split()))]\n",
        "n"
      ],
      "metadata": {
        "colab": {
          "base_uri": "https://localhost:8080/"
        },
        "id": "0G9Yf1xG3hTP",
        "outputId": "e5ec9c63-e57c-4805-db7a-9f376d63237f"
      },
      "execution_count": 13,
      "outputs": [
        {
          "name": "stdout",
          "output_type": "stream",
          "text": [
            "1 2 3\n"
          ]
        },
        {
          "output_type": "execute_result",
          "data": {
            "text/plain": [
              "[<map at 0x7f81a3e16d30>]"
            ]
          },
          "metadata": {},
          "execution_count": 13
        }
      ]
    },
    {
      "cell_type": "code",
      "source": [
        "n=int(input())\n",
        "x=[int(i) for i in input().split()]\n",
        "m=int(input())\n",
        "y=[int(i) for i in input().split()]\n",
        "a=[]\n",
        "for i in y:\n",
        "    if i in x:\n",
        "        a.append(x.count(i))\n",
        "    else:\n",
        "        a.append(\"Not Present\")\n",
        "print(*a)"
      ],
      "metadata": {
        "colab": {
          "base_uri": "https://localhost:8080/"
        },
        "id": "D7n8LRNW2_-d",
        "outputId": "e9591523-7351-4774-9fa6-73a85f87ada2"
      },
      "execution_count": 15,
      "outputs": [
        {
          "output_type": "stream",
          "name": "stdout",
          "text": [
            "10\n",
            "1 1 1 2 2 2 3 8 9 7\n",
            "5\n",
            "1 2 3 0 5\n",
            "3 3 1 Not Present Not Present\n"
          ]
        }
      ]
    },
    {
      "cell_type": "markdown",
      "source": [
        "15. Ramesh is a student and wants to find out if there is any other student in his class who has got the same marks as his, in maths. Help him to find out."
      ],
      "metadata": {
        "id": "gKn6jPTh4MPv"
      }
    },
    {
      "cell_type": "code",
      "source": [
        "n=[str(i) for i in input().split()]\n",
        "m=[str(i) for i in input().split()]\n",
        "a=[]\n",
        "for i in range(len(n)):\n",
        "    if n[i]==m[i]:\n",
        "        a.append(i)\n",
        "\n",
        "if len(a)==0:\n",
        "    print('-1')\n",
        "else:\n",
        "    print(*a)"
      ],
      "metadata": {
        "colab": {
          "base_uri": "https://localhost:8080/"
        },
        "id": "1FfccFco3D22",
        "outputId": "606cc960-3b07-43f4-9cca-71e6f1609b1b"
      },
      "execution_count": 17,
      "outputs": [
        {
          "output_type": "stream",
          "name": "stdout",
          "text": [
            "2 10\n",
            "1 2\n",
            "-1\n"
          ]
        }
      ]
    }
  ]
}