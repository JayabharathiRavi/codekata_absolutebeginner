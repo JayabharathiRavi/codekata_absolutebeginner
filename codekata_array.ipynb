{
  "nbformat": 4,
  "nbformat_minor": 0,
  "metadata": {
    "colab": {
      "name": "codekata_array.ipynb",
      "provenance": [],
      "authorship_tag": "ABX9TyMw+3Oy5ZIg41yFWK4LdGed",
      "include_colab_link": true
    },
    "kernelspec": {
      "name": "python3",
      "display_name": "Python 3"
    },
    "language_info": {
      "name": "python"
    }
  },
  "cells": [
    {
      "cell_type": "markdown",
      "metadata": {
        "id": "view-in-github",
        "colab_type": "text"
      },
      "source": [
        "<a href=\"https://colab.research.google.com/github/JayabharathiRavi/codekata_solved/blob/main/codekata_array.ipynb\" target=\"_parent\"><img src=\"https://colab.research.google.com/assets/colab-badge.svg\" alt=\"Open In Colab\"/></a>"
      ]
    },
    {
      "cell_type": "markdown",
      "source": [
        "You are given an array of ids of prisoners. The jail authority found that there are some prisoners of same id. Your task is to help the authority in finding the common ids."
      ],
      "metadata": {
        "id": "4LIqBuZJlrHw"
      }
    },
    {
      "cell_type": "code",
      "execution_count": 1,
      "metadata": {
        "colab": {
          "base_uri": "https://localhost:8080/"
        },
        "id": "bKl1XhAmc2fc",
        "outputId": "3b1d097f-5171-4aa2-82cf-960ad1f7f84d"
      },
      "outputs": [
        {
          "output_type": "stream",
          "name": "stdout",
          "text": [
            "7\n",
            "1 1 11 121 131 141 98\n",
            "1\n"
          ]
        }
      ],
      "source": [
        "n=input()\n",
        "a=(int(x) for x in input().split())\n",
        "x=list(a)\n",
        "c=[]\n",
        "for i in x:\n",
        "    if x.count(i)>=2:\n",
        "        if i not in c:\n",
        "            c.append(i)\n",
        "if len(c)>=1:\n",
        "    print(*c)"
      ]
    },
    {
      "cell_type": "markdown",
      "source": [
        "You are given an array. Your task is to sort the array in given manner. Print the elements in increasing order of the frequency. If frequency is same print smaller one first.\n",
        "\n"
      ],
      "metadata": {
        "id": "m14XBj3JmT8t"
      }
    },
    {
      "cell_type": "code",
      "source": [
        "n=input()\n",
        "x=list(int(x) for x in input().split())\n",
        "a=[]\n",
        "for i in x:\n",
        "    if i not in a:\n",
        "        a.append(i)\n",
        "print(*a[::-1])"
      ],
      "metadata": {
        "colab": {
          "base_uri": "https://localhost:8080/"
        },
        "id": "h6fN4mmUmXJP",
        "outputId": "67eaa466-eff0-4767-cd99-4ff4be7c3a47"
      },
      "execution_count": 2,
      "outputs": [
        {
          "output_type": "stream",
          "name": "stdout",
          "text": [
            "4\n",
            "1 1 3 2\n",
            "2 3 1\n"
          ]
        }
      ]
    },
    {
      "cell_type": "markdown",
      "source": [
        "you are given with array of numbers.you have to find whether array is beautiful or not. A beautiful array is an array whose sum of all numbers is divisible by 2, 3 and 5\n"
      ],
      "metadata": {
        "id": "8rmCOyufmYQ9"
      }
    },
    {
      "cell_type": "code",
      "source": [
        "n=input()\n",
        "arr=(x for x in input().split())\n",
        "for i in arr:\n",
        "    sum=0\n",
        "    sum=sum+int(i)\n",
        "if sum%2==0:\n",
        "\n",
        "    if sum%3==0:\n",
        "        if sum%5==0:\n",
        "            print(\"1\")\n",
        "else:\n",
        "    print(\"0\")"
      ],
      "metadata": {
        "colab": {
          "base_uri": "https://localhost:8080/"
        },
        "id": "qOmArXWFmX3P",
        "outputId": "72dcdb88-a79f-4050-e56c-7b9492fd6a46"
      },
      "execution_count": 3,
      "outputs": [
        {
          "output_type": "stream",
          "name": "stdout",
          "text": [
            "5\n",
            "5 25 35 -5 30\n",
            "1\n"
          ]
        }
      ]
    },
    {
      "cell_type": "markdown",
      "source": [
        "You are given with an circular array .Your task is calculate the difference between two consecutive number. And if difference is greater than ‘k’, print 1 else print 0\n",
        "\n"
      ],
      "metadata": {
        "id": "zZdcbAscnDBV"
      }
    },
    {
      "cell_type": "code",
      "source": [
        "\n",
        "n, k = map(int,input().split())\n",
        "a = list(map(int,input().split()))\n",
        "arr = []\n",
        "for i in range(n-1):\n",
        "    if abs(a[i]-a[i+1]) > k:\n",
        "        arr.append(1)\n",
        "    else:\n",
        "        arr.append(0)\n",
        "arr1= a[-1]-a[0] \n",
        "if abs(arr1) >k:\n",
        "    arr.append(1)\n",
        "else:\n",
        "    arr.append(0)\n",
        "print(*arr)    "
      ],
      "metadata": {
        "colab": {
          "base_uri": "https://localhost:8080/"
        },
        "id": "Rrfmrux8mXxX",
        "outputId": "d78b126d-7961-46e7-e435-9727921cc9f7"
      },
      "execution_count": 4,
      "outputs": [
        {
          "output_type": "stream",
          "name": "stdout",
          "text": [
            "5 15\n",
            "50 65 85 98 35\n",
            "0 1 0 1 0\n"
          ]
        }
      ]
    },
    {
      "cell_type": "markdown",
      "source": [
        "Assume you are a student studying in school.You are given a task to find first negative integer for each and every window of size k.\n",
        "\n"
      ],
      "metadata": {
        "id": "aYMJDUVFnQUj"
      }
    },
    {
      "cell_type": "code",
      "source": [
        "n=int(input())\n",
        "x=list(int(x) for x in input().split())\n",
        "k=int(input())\n",
        "a=[]\n",
        "b=[]\n",
        "for i in range(n):\n",
        "    a1=x[i:k+i]\n",
        "    for j in a1:\n",
        "        if j<0:\n",
        "            a.append(j)\n",
        "            break\n",
        "for j in x:\n",
        "  if j>0:\n",
        "    b.append(j)\n",
        "z=(n-k)+1\n",
        "r=[]\n",
        "if len(b)== len(x):\n",
        "  for k in range(z):\n",
        "    r.append(0)\n",
        "\n",
        "if len(a)!=0:\n",
        "  print(*a[:-(k-1)])\n",
        "else:\n",
        "  print(*r)"
      ],
      "metadata": {
        "colab": {
          "base_uri": "https://localhost:8080/"
        },
        "id": "ZzDDYieUmXwc",
        "outputId": "fbcafd87-d8a0-4495-f572-cc43e58d7765"
      },
      "execution_count": 5,
      "outputs": [
        {
          "output_type": "stream",
          "name": "stdout",
          "text": [
            "7\n",
            "1 -2 -3 -4 5 6 -7\n",
            "3\n",
            "-2 -2 -3 -4 -7\n"
          ]
        }
      ]
    },
    {
      "cell_type": "code",
      "source": [
        ""
      ],
      "metadata": {
        "id": "Y991ONBVmXql"
      },
      "execution_count": null,
      "outputs": []
    },
    {
      "cell_type": "code",
      "source": [
        ""
      ],
      "metadata": {
        "id": "3_ge6259mXpr"
      },
      "execution_count": null,
      "outputs": []
    }
  ]
}