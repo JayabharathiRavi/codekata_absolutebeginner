{
  "nbformat": 4,
  "nbformat_minor": 0,
  "metadata": {
    "colab": {
      "provenance": [],
      "authorship_tag": "ABX9TyOSg74o0mD4gFges49c6P0A",
      "include_colab_link": true
    },
    "kernelspec": {
      "name": "python3",
      "display_name": "Python 3"
    },
    "language_info": {
      "name": "python"
    }
  },
  "cells": [
    {
      "cell_type": "markdown",
      "metadata": {
        "id": "view-in-github",
        "colab_type": "text"
      },
      "source": [
        "<a href=\"https://colab.research.google.com/github/JayabharathiRavi/codekata_solved/blob/main/codekata_Mathematics.ipynb\" target=\"_parent\"><img src=\"https://colab.research.google.com/assets/colab-badge.svg\" alt=\"Open In Colab\"/></a>"
      ]
    },
    {
      "cell_type": "code",
      "source": [
        "#Mathematics"
      ],
      "metadata": {
        "id": "7xlBoiSRx7GU"
      },
      "execution_count": null,
      "outputs": []
    },
    {
      "cell_type": "markdown",
      "source": [
        "Given 3 numbers a,b,c print a*b mod c.\n"
      ],
      "metadata": {
        "id": "oynEsGqIx-Am"
      }
    },
    {
      "cell_type": "code",
      "execution_count": 1,
      "metadata": {
        "colab": {
          "base_uri": "https://localhost:8080/"
        },
        "id": "n1X1MXJexz5_",
        "outputId": "56bc2c91-bf37-42c9-94b0-d2aff06e52d7"
      },
      "outputs": [
        {
          "output_type": "stream",
          "name": "stdout",
          "text": [
            "5 3 2\n",
            "1\n"
          ]
        }
      ],
      "source": [
        "a,b,c = [int(x) for x in input().split()]\n",
        "n=a*b%c\n",
        "print(n)"
      ]
    },
    {
      "cell_type": "markdown",
      "source": [
        "Given a number N, print yes if the number is a multiple of 7 else print no.\n"
      ],
      "metadata": {
        "id": "macjz4dyyKvT"
      }
    },
    {
      "cell_type": "code",
      "source": [
        "n=int(input())\n",
        "if n%7==0:\n",
        "    print(\"yes\")\n",
        "else:\n",
        "    print(\"no\")"
      ],
      "metadata": {
        "colab": {
          "base_uri": "https://localhost:8080/"
        },
        "id": "Xj2nSrYwyLZT",
        "outputId": "b29ad13b-495d-4d47-a897-afa493e0afc8"
      },
      "execution_count": 2,
      "outputs": [
        {
          "output_type": "stream",
          "name": "stdout",
          "text": [
            "49\n",
            "yes\n"
          ]
        }
      ]
    },
    {
      "cell_type": "markdown",
      "source": [
        "A person saves his monthly saving according to given schema. He saves same amount of money which is equal to the money saved in immediate previous two months. Assume, initially he saved 1000 rupees and in first month he saved another 1000. Your task is to tell how much he had totally saved at the end of ‘n’ months\n"
      ],
      "metadata": {
        "id": "Q7cwh1QmyRNZ"
      }
    },
    {
      "cell_type": "code",
      "source": [
        "n=int(input())\n",
        "mon=[2000,4000]\n",
        "\n",
        "f=2000\n",
        "s=5000\n",
        "for i in range(2,n):\n",
        "  next=f+s                           \n",
        "  f=s\n",
        "  s=next\n",
        "  mon.append(next)\n",
        "print(mon[n-1])"
      ],
      "metadata": {
        "colab": {
          "base_uri": "https://localhost:8080/"
        },
        "id": "BOkcbvXKyRiX",
        "outputId": "1b083c29-f4f1-4656-e78f-59a5b07f420c"
      },
      "execution_count": 3,
      "outputs": [
        {
          "output_type": "stream",
          "name": "stdout",
          "text": [
            "1\n",
            "2000\n"
          ]
        }
      ]
    },
    {
      "cell_type": "markdown",
      "source": [
        "Assume your brother studies in class 2. He has to  complete his homework on co-primes. As an elder sibling help him in finding whether the given two numbers is co-prime or not.\n",
        "\n"
      ],
      "metadata": {
        "id": "a215cALwycV5"
      }
    },
    {
      "cell_type": "code",
      "source": [
        "n,m=map(int,input().split())\n",
        "a=[]\n",
        "b=[]\n",
        "c=[]\n",
        "for i in range(1, n + 1):\n",
        "    if n % i == 0:\n",
        "        a.append(i)\n",
        "for j in range(1,m+1):\n",
        "    if m%j==0:\n",
        "        b.append(j)\n",
        "for k in a:\n",
        "    if k in b:\n",
        "        c.append(k)\n",
        "if len(c) ==1:\n",
        "    print(\"1\")\n",
        "else:\n",
        "    print('0')"
      ],
      "metadata": {
        "colab": {
          "base_uri": "https://localhost:8080/"
        },
        "id": "Z0BizSBSycyn",
        "outputId": "f834e141-a9c1-43bd-f456-1da69fa885a4"
      },
      "execution_count": 4,
      "outputs": [
        {
          "output_type": "stream",
          "name": "stdout",
          "text": [
            "3 5\n",
            "1\n"
          ]
        }
      ]
    },
    {
      "cell_type": "markdown",
      "source": [
        "In XYZ country there is rule that car’s engine no. depends upon car’ number plate. Engine no is sum of all the integers present on car’s Number plate.The issuing authority has hired you in order to provide engine no. to the cars.Your task is to develop an algorithm which takes input as in form of string(Number plate) and gives back\n",
        "\n",
        "Engine number.\n",
        "\n"
      ],
      "metadata": {
        "id": "c-yivplgylbv"
      }
    },
    {
      "cell_type": "code",
      "source": [
        "n=input()\n",
        "a=[]\n",
        "sum=0\n",
        "for i in n:\n",
        "    if i.isnumeric()==True:\n",
        "        a.append(i)\n",
        "for j in a:\n",
        "    j=int(j)\n",
        "    sum=sum+j\n",
        "print(sum)"
      ],
      "metadata": {
        "colab": {
          "base_uri": "https://localhost:8080/"
        },
        "id": "luui7kdLylyo",
        "outputId": "b1bd6053-17d2-469e-8aaa-62d1ef5fad52"
      },
      "execution_count": 5,
      "outputs": [
        {
          "output_type": "stream",
          "name": "stdout",
          "text": [
            "HR05-AA-2669\n",
            "28\n"
          ]
        }
      ]
    },
    {
      "cell_type": "markdown",
      "source": [
        "You are provided with a number ’n’. Your task is to tell whether that number is saturated. A saturated number is a number which is made by exactly two digits.\n",
        "\n"
      ],
      "metadata": {
        "id": "0VMryIwCyvva"
      }
    },
    {
      "cell_type": "code",
      "source": [
        "n=input()\n",
        "l=list(n)\n",
        "s=set(l)\n",
        "if len(s)==2:\n",
        "    print('Saturated')\n",
        "else:\n",
        "    print(\"Unsaturated\")"
      ],
      "metadata": {
        "colab": {
          "base_uri": "https://localhost:8080/"
        },
        "id": "gEL-58AQywE8",
        "outputId": "bbc66a64-2915-48aa-ec86-9320d1fc3938"
      },
      "execution_count": 6,
      "outputs": [
        {
          "output_type": "stream",
          "name": "stdout",
          "text": [
            "121\n",
            "Saturated\n"
          ]
        }
      ]
    },
    {
      "cell_type": "markdown",
      "source": [
        "Simi is learning about palindromic numbers. Her teacher gave him the task to count all palindromic numbers present in that range.Simi has told you about this and want your help. You design an algorithm in order to help simi.\n",
        "\n"
      ],
      "metadata": {
        "id": "AhRlZ_6ty5Al"
      }
    },
    {
      "cell_type": "code",
      "source": [
        "n=input()\n",
        "m=n[::-1]\n",
        "a=int(n)\n",
        "if n==m:\n",
        "    print(n)\n",
        "else:\n",
        "    print(a-1)\n",
        " "
      ],
      "metadata": {
        "colab": {
          "base_uri": "https://localhost:8080/"
        },
        "id": "n3kUDEJLy7Eb",
        "outputId": "6c2a8e26-744a-4fe0-9320-f9898a172b42"
      },
      "execution_count": 7,
      "outputs": [
        {
          "output_type": "stream",
          "name": "stdout",
          "text": [
            "5\n",
            "5\n"
          ]
        }
      ]
    },
    {
      "cell_type": "markdown",
      "source": [
        "You are given an array of non-negative integers representing height of walls at index i as Ai and the width of each block is 1. Compute how much air can be encapsulated between the walls of chamber.\n",
        "\n"
      ],
      "metadata": {
        "id": "eTs59oQvy8_J"
      }
    },
    {
      "cell_type": "code",
      "source": [
        "n =int(input())\n",
        "l = [int(x) for x in input().split()]\n",
        "ans = 0\n",
        "for i in range(1, len(l)-1):\n",
        "    if l[i] < l[i-1] and l[i] < l[i+1]:\n",
        "        ans += min(l[i+1], l[i-1]) - l[i]\n",
        "print(ans)"
      ],
      "metadata": {
        "colab": {
          "base_uri": "https://localhost:8080/"
        },
        "id": "l-qC_a45zE-5",
        "outputId": "7d2d984f-7b81-4bee-d324-6805e528c037"
      },
      "execution_count": 8,
      "outputs": [
        {
          "output_type": "stream",
          "name": "stdout",
          "text": [
            "3\n",
            "7 4 9\n",
            "3\n"
          ]
        }
      ]
    },
    {
      "cell_type": "markdown",
      "source": [
        "Given a number N, print 'yes' if it is a multiple of 13 else print 'no'.\n"
      ],
      "metadata": {
        "id": "cfpbZqSMzKwJ"
      }
    },
    {
      "cell_type": "code",
      "source": [
        "n=int(input())\n",
        "if n%13==0:\n",
        "    print('yes')\n",
        "else:\n",
        "    print(\"no\")"
      ],
      "metadata": {
        "colab": {
          "base_uri": "https://localhost:8080/"
        },
        "id": "F6KQlvCdzQnn",
        "outputId": "00ff29af-ae88-4941-ddb0-6b6cbf518e6a"
      },
      "execution_count": 9,
      "outputs": [
        {
          "output_type": "stream",
          "name": "stdout",
          "text": [
            "26\n",
            "yes\n"
          ]
        }
      ]
    },
    {
      "cell_type": "markdown",
      "source": [
        "You are given a large number made of only 0’s and 1’s.Your task is to find the max no of consecutive 1’s. If there are no 1’s print -1\n",
        "\n"
      ],
      "metadata": {
        "id": "I-OrXx46zWbA"
      }
    },
    {
      "cell_type": "code",
      "source": [
        "n=list(input())\n",
        "l=int(len(n))\n",
        "a=[]\n",
        "for i in range(l-1):\n",
        "    n[i]=int(n[i])\n",
        "    n[i+1]=int(n[i+1])\n",
        "    if n[i]&n[i+1]==1:\n",
        "       a.append(n[i]) \n",
        "if len(a)!=0:\n",
        "    print(len(a)+1)\n",
        "else:\n",
        "    print(-1)"
      ],
      "metadata": {
        "colab": {
          "base_uri": "https://localhost:8080/"
        },
        "id": "MqauvDN4zXW9",
        "outputId": "a85b0f46-0fbe-4fb9-8f20-aad59d3fd448"
      },
      "execution_count": 10,
      "outputs": [
        {
          "output_type": "stream",
          "name": "stdout",
          "text": [
            "101011111\n",
            "5\n"
          ]
        }
      ]
    },
    {
      "cell_type": "markdown",
      "source": [
        "You are given an array of numbers. Print the least occurring element. If there is more than 1 element print all of them in decreasing order of their value.\n",
        "\n"
      ],
      "metadata": {
        "id": "1JjMYzOEzc5n"
      }
    },
    {
      "cell_type": "code",
      "source": [
        "n=input()\n",
        "x=list(int(x) for x in input().split())\n",
        "c=[]\n",
        "for i in x:\n",
        "   if x.count(i)==1:\n",
        "    c.append(i)\n",
        "a=sorted(c,reverse=True)\n",
        "print(*a)"
      ],
      "metadata": {
        "colab": {
          "base_uri": "https://localhost:8080/"
        },
        "id": "kbkWAOcxzgot",
        "outputId": "5ab8d78b-c857-42ba-b1d0-c079635e0d3b"
      },
      "execution_count": 11,
      "outputs": [
        {
          "output_type": "stream",
          "name": "stdout",
          "text": [
            "9\n",
            "1 6 4 56 56 56 6 4 2\n",
            "2 1\n"
          ]
        }
      ]
    },
    {
      "cell_type": "markdown",
      "source": [
        "Pk finds it difficult to judge the minimum element in the list of elements given to him. Your task is to develop the algorithm in order to find the minimum element.\n",
        "\n"
      ],
      "metadata": {
        "id": "7LCsY0nhzlue"
      }
    },
    {
      "cell_type": "code",
      "source": [
        "n=input()\n",
        "x=list(int(x) for x in input().split())\n",
        "print(min(x))"
      ],
      "metadata": {
        "colab": {
          "base_uri": "https://localhost:8080/"
        },
        "id": "sxAfJM0lztzQ",
        "outputId": "a1405b2b-eeab-4868-c8c3-ac65d157ee76"
      },
      "execution_count": 12,
      "outputs": [
        {
          "output_type": "stream",
          "name": "stdout",
          "text": [
            "5\n",
            "3 4 9 1 6\n",
            "1\n"
          ]
        }
      ]
    },
    {
      "cell_type": "markdown",
      "source": [
        "You are given a set of numbers, out of which you have to tell which of them are finest. A finest number ‘n’ is a number which is formed by a number ‘t’ such that\n",
        "\n",
        "n=t^3+(t+1)^3\n",
        "\n",
        " \n",
        "\n",
        "t is a natural number\n",
        "\n"
      ],
      "metadata": {
        "id": "tmvPLuumz6s5"
      }
    },
    {
      "cell_type": "code",
      "source": [
        "n=int(input())\n",
        "x=[int(x) for x in input().split()]\n",
        "a=[]\n",
        "s=[]\n",
        "i=1\n",
        "while i<50000:\n",
        "    n=i**3+(i+1)**3\n",
        "    a.append(n)\n",
        "    if n==max(x):\n",
        "        break\n",
        "    i=i+1\n",
        "#print(a)\n",
        "for i in x:\n",
        "  if i in a:\n",
        "    s.append(i)\n",
        "    \n",
        "if len(s)!=0:  print(*sorted(s))\n",
        "\n",
        "else:   print(-1)\n",
        "  "
      ],
      "metadata": {
        "colab": {
          "base_uri": "https://localhost:8080/"
        },
        "id": "TaP_q1e-z70K",
        "outputId": "c5554d97-b541-4cf3-e45b-2b9fa6083b83"
      },
      "execution_count": 13,
      "outputs": [
        {
          "output_type": "stream",
          "name": "stdout",
          "text": [
            "2\n",
            "1729 189\n",
            "189 1729\n"
          ]
        }
      ]
    },
    {
      "cell_type": "markdown",
      "source": [
        "Find the minimum among 10 numbers.\n"
      ],
      "metadata": {
        "id": "jNPhBEQ90CHG"
      }
    },
    {
      "cell_type": "code",
      "source": [
        "n=(int(i) for i in input().split())\n",
        "x=sorted(n)\n",
        "print(x[0])"
      ],
      "metadata": {
        "colab": {
          "base_uri": "https://localhost:8080/"
        },
        "id": "rgoQoytT0FHr",
        "outputId": "8e8cde9c-e6a6-4a2f-9e13-51f14b05201c"
      },
      "execution_count": 14,
      "outputs": [
        {
          "output_type": "stream",
          "name": "stdout",
          "text": [
            "5 4 3 2 1 7 6 10 8 9\n",
            "1\n"
          ]
        }
      ]
    },
    {
      "cell_type": "markdown",
      "source": [
        "Given a number N, find the nearest greater multiple of 10.\n"
      ],
      "metadata": {
        "id": "PRu4ZaWl0NHT"
      }
    },
    {
      "cell_type": "code",
      "source": [
        "n=int(input())\n",
        "if n%10==0:\n",
        "    print(n)\n",
        "a=[]\n",
        "i=n\n",
        "while i%10!=0:\n",
        "    i=i+1\n",
        "    if i%10==0:\n",
        "        a.append(i)\n",
        "        break\n",
        "print(*a)"
      ],
      "metadata": {
        "colab": {
          "base_uri": "https://localhost:8080/"
        },
        "id": "uUd7LtFc0OKp",
        "outputId": "911b6a9e-95fa-4c59-9c01-a5d966f94591"
      },
      "execution_count": 15,
      "outputs": [
        {
          "output_type": "stream",
          "name": "stdout",
          "text": [
            "3\n",
            "10\n"
          ]
        }
      ]
    },
    {
      "cell_type": "markdown",
      "source": [
        "You are given a number ‘n’. You have to tell whether a number is great or not. A great number is a number whose sum of digits let (m) and product of digits let(j) when summed together gives the number back\n",
        "\n",
        "m+j=n"
      ],
      "metadata": {
        "id": "u2Ht5NSs0WH1"
      }
    },
    {
      "cell_type": "code",
      "source": [
        "number=input()\n",
        "b=int(number)\n",
        "sum= 0\n",
        "product=1\n",
        "for digit in number:\n",
        "    sum += int(digit)\n",
        "    product*=int(digit)\n",
        "#a=sum+product\n",
        "if (sum+product)==b:\n",
        "  print(\"Great\")\n",
        "else:\n",
        "  print(\"no\")\n"
      ],
      "metadata": {
        "colab": {
          "base_uri": "https://localhost:8080/"
        },
        "id": "BDFuaTaJ0VnM",
        "outputId": "55c89322-1071-4e96-83db-829d8ced05d1"
      },
      "execution_count": 16,
      "outputs": [
        {
          "output_type": "stream",
          "name": "stdout",
          "text": [
            "59\n",
            "Great\n"
          ]
        }
      ]
    },
    {
      "cell_type": "markdown",
      "source": [
        "Given 2 numbers N,M. Print 'yes' if their product is a perfect square else print 'no'.\n"
      ],
      "metadata": {
        "id": "vBG54ENu0hy6"
      }
    },
    {
      "cell_type": "code",
      "source": [
        "\n",
        "import math\n",
        "x,y =(int(x) for x in input().split())\n",
        "n=x*y\n",
        "root = math.sqrt(n)\n",
        "if int(root + 0.5) ** 2 == n :\n",
        "    print(\"yes\")\n",
        "else:\n",
        "    print(\"no\")\n"
      ],
      "metadata": {
        "colab": {
          "base_uri": "https://localhost:8080/"
        },
        "id": "11tpZaiS0ijh",
        "outputId": "5208cc46-5ff1-4b1e-90e7-5caa9e9b0956"
      },
      "execution_count": 17,
      "outputs": [
        {
          "output_type": "stream",
          "name": "stdout",
          "text": [
            "5 5\n",
            "yes\n"
          ]
        }
      ]
    }
  ]
}