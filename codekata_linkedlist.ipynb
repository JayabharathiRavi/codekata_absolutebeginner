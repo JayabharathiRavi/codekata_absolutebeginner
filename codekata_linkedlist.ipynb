{
  "nbformat": 4,
  "nbformat_minor": 0,
  "metadata": {
    "colab": {
      "name": "codekata_linkedlist.ipynb",
      "provenance": [],
      "authorship_tag": "ABX9TyNFRXCvOyzMOGWcAuBh0xDJ",
      "include_colab_link": true
    },
    "kernelspec": {
      "name": "python3",
      "display_name": "Python 3"
    },
    "language_info": {
      "name": "python"
    }
  },
  "cells": [
    {
      "cell_type": "markdown",
      "metadata": {
        "id": "view-in-github",
        "colab_type": "text"
      },
      "source": [
        "<a href=\"https://colab.research.google.com/github/JayabharathiRavi/codekata_solved/blob/main/codekata_linkedlist.ipynb\" target=\"_parent\"><img src=\"https://colab.research.google.com/assets/colab-badge.svg\" alt=\"Open In Colab\"/></a>"
      ]
    },
    {
      "cell_type": "code",
      "source": [
        ""
      ],
      "metadata": {
        "id": "MqQOzPJR_GSl"
      },
      "execution_count": null,
      "outputs": []
    },
    {
      "cell_type": "markdown",
      "source": [
        "Given a linked list,rotate it for a given number of times and print the values of linked list after rotation.\n"
      ],
      "metadata": {
        "id": "AWxfzhkf_Jvz"
      }
    },
    {
      "cell_type": "code",
      "execution_count": 4,
      "metadata": {
        "colab": {
          "base_uri": "https://localhost:8080/"
        },
        "id": "PE779V2U0MSm",
        "outputId": "ef627d8d-bfba-482b-ec47-20d1403c0f26"
      },
      "outputs": [
        {
          "output_type": "stream",
          "name": "stdout",
          "text": [
            "8\n",
            "1 2 3 4 5 6 7 8\n",
            "4\n",
            "5 6 7 8 1 2 3 4\n"
          ]
        }
      ],
      "source": [
        "n=int(input())\n",
        "x=[int(x) for x in input().split()]\n",
        "y=int(input())\n",
        "x1=x.copy()\n",
        "for i in range(y):\n",
        "  i=x1[-1]\n",
        "  x.insert(0,i)\n",
        "  x1.remove(i)\n",
        "print(*(x[:n]))"
      ]
    },
    {
      "cell_type": "markdown",
      "source": [
        "Delete the N-th node from the end of the linked list"
      ],
      "metadata": {
        "id": "A05POl80_Lb1"
      }
    },
    {
      "cell_type": "code",
      "source": [
        "n=int(input())\n",
        "x=[int(x) for x in input().split()]\n",
        "y=int(input())\n",
        "x.remove(x[-y])\n",
        "print(*x)"
      ],
      "metadata": {
        "colab": {
          "base_uri": "https://localhost:8080/"
        },
        "id": "NLcetD1Z_Qlv",
        "outputId": "72a984c2-36ec-4898-9ac7-c8171461268b"
      },
      "execution_count": 3,
      "outputs": [
        {
          "output_type": "stream",
          "name": "stdout",
          "text": [
            "5\n",
            "1 2 3 4 5\n",
            "3\n",
            "1 2 4 5\n"
          ]
        }
      ]
    },
    {
      "cell_type": "markdown",
      "source": [
        "Merge two sorted linked lists and print the new merged linked list.\n",
        "The new list should be made by splicing together the nodes of the first two lists, and should also be sorted."
      ],
      "metadata": {
        "id": "YjxSjdWL_YIb"
      }
    },
    {
      "cell_type": "code",
      "source": [
        "x=int(input())\n",
        "x1=int(input())\n",
        "y=[int(x) for x in input().split()]\n",
        "y1=[int(x) for x in input().split()]\n",
        "z=y+y1\n",
        "print(*sorted(z))"
      ],
      "metadata": {
        "colab": {
          "base_uri": "https://localhost:8080/"
        },
        "id": "5ySg3W6t_b3A",
        "outputId": "af110a7b-221d-4e61-e404-85660e66834f"
      },
      "execution_count": 2,
      "outputs": [
        {
          "output_type": "stream",
          "name": "stdout",
          "text": [
            "3\n",
            "3\n",
            "5 8 20 \n",
            "4 11 15\n",
            "4 5 8 11 15 20\n"
          ]
        }
      ]
    },
    {
      "cell_type": "markdown",
      "source": [
        "Given a linked list delete the given number node in the linked list without using a head pointer.\n"
      ],
      "metadata": {
        "id": "hTBBy8fsAHtt"
      }
    },
    {
      "cell_type": "code",
      "source": [
        "n=int(input())\n",
        "x=[int(x) for x in input().split()]\n",
        "y=int(input())\n",
        "x.remove(x[y-1])\n",
        "print(*x)"
      ],
      "metadata": {
        "colab": {
          "base_uri": "https://localhost:8080/"
        },
        "id": "9Lhy8C_8AORt",
        "outputId": "cd9ca937-ebc6-4edb-a811-48c53552b30d"
      },
      "execution_count": 5,
      "outputs": [
        {
          "output_type": "stream",
          "name": "stdout",
          "text": [
            "6\n",
            "1 2 3 4 5 6\n",
            "3\n",
            "1 2 4 5 6\n"
          ]
        }
      ]
    },
    {
      "cell_type": "markdown",
      "source": [
        "\n",
        "Determine whether the contents in the form of linked list is a palindrome or not.\n",
        "\n"
      ],
      "metadata": {
        "id": "wSpCe54pAZhL"
      }
    },
    {
      "cell_type": "code",
      "source": [
        "n=int(input())\n",
        "s=input()\n",
        "s1=s[::-1]\n",
        "if s==s1:\n",
        "    print('yes')\n",
        "else:\n",
        "    print('no')"
      ],
      "metadata": {
        "colab": {
          "base_uri": "https://localhost:8080/"
        },
        "id": "rz5r0FZdAfqU",
        "outputId": "9194dbc6-838f-40c7-f826-d36eebccd968"
      },
      "execution_count": 6,
      "outputs": [
        {
          "output_type": "stream",
          "name": "stdout",
          "text": [
            "5\n",
            "radar\n",
            "yes\n"
          ]
        }
      ]
    },
    {
      "cell_type": "markdown",
      "source": [
        "Delete the middle node of a linked list and print the resulting linked list.\n"
      ],
      "metadata": {
        "id": "vxCSRbsgAwuD"
      }
    },
    {
      "cell_type": "code",
      "source": [
        "n=int(input())\n",
        "x=[int(x) for x in input().split()]\n",
        "y=n/2\n",
        "if n%2==0:\n",
        "    x.remove(x[int(y)-1])\n",
        "else:\n",
        "    x.remove(x[int(y)])\n",
        "print(*x)"
      ],
      "metadata": {
        "colab": {
          "base_uri": "https://localhost:8080/"
        },
        "id": "rh4nMTCRAyVl",
        "outputId": "6a30c7fc-6fb7-49c6-c547-f49c1d432367"
      },
      "execution_count": 7,
      "outputs": [
        {
          "output_type": "stream",
          "name": "stdout",
          "text": [
            "4\n",
            "45 56 67 78\n",
            "45 67 78\n"
          ]
        }
      ]
    },
    {
      "cell_type": "markdown",
      "source": [
        "Given a linked list of 0's 1's and 2's sort the values in ascending order and print the result in the form of linked list.\n",
        "\n"
      ],
      "metadata": {
        "id": "CZQ_1HXgA6_r"
      }
    },
    {
      "cell_type": "code",
      "source": [
        "n=int(input())\n",
        "x=[int(x) for x in input().split()]\n",
        "print(*sorted(x))"
      ],
      "metadata": {
        "colab": {
          "base_uri": "https://localhost:8080/"
        },
        "id": "_2BKoTOmA__I",
        "outputId": "d566f0ff-c4c4-4f0c-8116-35a94d5d9b4c"
      },
      "execution_count": 8,
      "outputs": [
        {
          "output_type": "stream",
          "name": "stdout",
          "text": [
            "6\n",
            "0 1 2 2 0 1\n",
            "0 0 1 1 2 2\n"
          ]
        }
      ]
    },
    {
      "cell_type": "markdown",
      "source": [
        "Given a linked list,reverse it and print the values of linked list after reversed.\n",
        "\n"
      ],
      "metadata": {
        "id": "evRMvB5ABFzq"
      }
    },
    {
      "cell_type": "code",
      "source": [
        "n=int(input())\n",
        "x=[int(x) for x in input().split()]\n",
        "print(*sorted(x)[::-1])"
      ],
      "metadata": {
        "colab": {
          "base_uri": "https://localhost:8080/"
        },
        "id": "L5gfyRDZBKi4",
        "outputId": "25867e49-5eec-4932-9567-51fbf2b9471e"
      },
      "execution_count": 9,
      "outputs": [
        {
          "output_type": "stream",
          "name": "stdout",
          "text": [
            "4\n",
            "1 2 3 4\n",
            "4 3 2 1\n"
          ]
        }
      ]
    },
    {
      "cell_type": "markdown",
      "source": [
        ""
      ],
      "metadata": {
        "id": "D2Ip5HcGBP_Q"
      }
    }
  ]
}