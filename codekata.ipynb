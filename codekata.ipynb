{
  "nbformat": 4,
  "nbformat_minor": 0,
  "metadata": {
    "colab": {
      "name": "codekata.ipynb",
      "provenance": [],
      "authorship_tag": "ABX9TyN5h1l6Hyut5wRGDJP5JB9S",
      "include_colab_link": true
    },
    "kernelspec": {
      "name": "python3",
      "display_name": "Python 3"
    },
    "language_info": {
      "name": "python"
    }
  },
  "cells": [
    {
      "cell_type": "markdown",
      "metadata": {
        "id": "view-in-github",
        "colab_type": "text"
      },
      "source": [
        "<a href=\"https://colab.research.google.com/github/JayabharathiRavi/codekata_absolutebeginner/blob/main/codekata.ipynb\" target=\"_parent\"><img src=\"https://colab.research.google.com/assets/colab-badge.svg\" alt=\"Open In Colab\"/></a>"
      ]
    },
    {
      "cell_type": "markdown",
      "source": [
        "Print the factorial of the integer."
      ],
      "metadata": {
        "id": "MU0knWZMYubK"
      }
    },
    {
      "cell_type": "code",
      "execution_count": 1,
      "metadata": {
        "id": "VgNWo_Ar_d0o",
        "colab": {
          "base_uri": "https://localhost:8080/"
        },
        "outputId": "5d591b89-506f-44ff-95c8-d4f713e50c08"
      },
      "outputs": [
        {
          "output_type": "stream",
          "name": "stdout",
          "text": [
            "2\n",
            "2\n"
          ]
        }
      ],
      "source": [
        "import math\n",
        "a=int(input())\n",
        "print(math.factorial (a))"
      ]
    },
    {
      "cell_type": "markdown",
      "source": [
        "You are provided with a number check whether its odd or even. "
      ],
      "metadata": {
        "id": "x9sCAbP-Y2-i"
      }
    },
    {
      "cell_type": "code",
      "source": [
        "x=float(input())\n",
        "a=round(x,2)\n",
        "if(a%2)==0:\n",
        "    print(\"Even\")\n",
        "else:\n",
        "    if(a%2)!=0:\n",
        "        print(\"Odd\")\n",
        "    elif(a==0):\n",
        "        print(\"Zero\")"
      ],
      "metadata": {
        "colab": {
          "base_uri": "https://localhost:8080/"
        },
        "id": "dkidZUtaY_Bw",
        "outputId": "fbb81613-7a52-44db-e9fd-2a4bd2687b84"
      },
      "execution_count": 2,
      "outputs": [
        {
          "output_type": "stream",
          "name": "stdout",
          "text": [
            "2\n",
            "Even\n"
          ]
        }
      ]
    },
    {
      "cell_type": "markdown",
      "source": [
        "You are given Two Numbers, A and B. If C = A + B. Find C."
      ],
      "metadata": {
        "id": "S24bUfRoZF2n"
      }
    },
    {
      "cell_type": "code",
      "source": [
        "a=float(input())\n",
        "b=float(input())\n",
        "c=a+b\n",
        "print(float(c))"
      ],
      "metadata": {
        "colab": {
          "base_uri": "https://localhost:8080/"
        },
        "id": "wAIEMVcwZKG9",
        "outputId": "b9b489d2-00fa-4686-c6ec-4414d3995dcc"
      },
      "execution_count": 3,
      "outputs": [
        {
          "output_type": "stream",
          "name": "stdout",
          "text": [
            "1\n",
            "1\n",
            "2.0\n"
          ]
        }
      ]
    },
    {
      "cell_type": "markdown",
      "source": [
        "You are provided with the radius of a circle \"A\". Find the length of its circumference."
      ],
      "metadata": {
        "id": "-G-so0CLZPdW"
      }
    },
    {
      "cell_type": "code",
      "source": [
        "a=float(input())\n",
        "r=round(a,2)\n",
        "c = 2*3.14159265359*r\n",
        "print(round(c,2))"
      ],
      "metadata": {
        "colab": {
          "base_uri": "https://localhost:8080/"
        },
        "id": "CINwJ1pjZUFG",
        "outputId": "9f3467fa-2fc9-46a0-d847-4af7455877b7"
      },
      "execution_count": 4,
      "outputs": [
        {
          "output_type": "stream",
          "name": "stdout",
          "text": [
            "2\n",
            "12.57\n"
          ]
        }
      ]
    },
    {
      "cell_type": "markdown",
      "source": [
        "You are given with a number A i.e. the temperature in Celcius. Write a program to convert this into Fahrenheit. "
      ],
      "metadata": {
        "id": "zzQ7p1XnZaeQ"
      }
    },
    {
      "cell_type": "code",
      "source": [
        "a=input()\n",
        "A=float(a)\n",
        "x=(A*9/5) + 32 \n",
        "print(float(x))"
      ],
      "metadata": {
        "colab": {
          "base_uri": "https://localhost:8080/"
        },
        "id": "I5wF3VN6Zkzi",
        "outputId": "0768999d-a304-43ae-ba0e-b6679c9f7b61"
      },
      "execution_count": 5,
      "outputs": [
        {
          "output_type": "stream",
          "name": "stdout",
          "text": [
            "12\n",
            "53.6\n"
          ]
        }
      ]
    },
    {
      "cell_type": "markdown",
      "source": [
        "The area of an equilateral triangle is ¼(√3a2) where \"a\" represents a side of the triangle. You are provided with the side \"a\". Find the area of the equilateral triangle.\n",
        "\n"
      ],
      "metadata": {
        "id": "XMZJsszIZq9b"
      }
    },
    {
      "cell_type": "code",
      "source": [
        "from math import sqrt\n",
        "\n",
        "a=float(input())\n",
        "b=sqrt(3)\n",
        "\n",
        "c=(b*a*a)/4\n",
        "\n",
        "print(round(c,2))"
      ],
      "metadata": {
        "colab": {
          "base_uri": "https://localhost:8080/"
        },
        "id": "IIrGSpG8Z0QC",
        "outputId": "87d9bb86-420a-4be7-cac5-b39ccf653b81"
      },
      "execution_count": 6,
      "outputs": [
        {
          "output_type": "stream",
          "name": "stdout",
          "text": [
            "20\n",
            "173.21\n"
          ]
        }
      ]
    },
    {
      "cell_type": "markdown",
      "source": [
        "Using the method of looping, write a program to print the table of 9 till N in the format as follows:\n",
        "(N is input by the user)\n",
        "\n",
        "9 18 27...\n",
        "\n",
        "Print NULL if 0 is input"
      ],
      "metadata": {
        "id": "z6bjr3qQZ5ws"
      }
    },
    {
      "cell_type": "code",
      "source": [
        "N=int(input())\n",
        "if N!=0:\n",
        "    multiples = []\n",
        "    for i in range(1, N+1):\n",
        "        multiples.append(9*i)\n",
        "    print(*multiples)\n",
        "else:\n",
        "    print(\"NULL\")\n"
      ],
      "metadata": {
        "colab": {
          "base_uri": "https://localhost:8080/"
        },
        "id": "lB9161UhZ-rv",
        "outputId": "e1f185d6-6ec1-4691-f8ab-0340663ad5aa"
      },
      "execution_count": 7,
      "outputs": [
        {
          "output_type": "stream",
          "name": "stdout",
          "text": [
            "3\n",
            "9 18 27\n"
          ]
        }
      ]
    },
    {
      "cell_type": "markdown",
      "source": [
        "You are given with Principle amount($), Interest Rate(%) and Time (years) in that order. Find Simple Interest.\n",
        "\n",
        "Print the output up to two decimal places (Round-off if necessary).\n",
        "\n",
        "(S.I. = P*T*R/100)"
      ],
      "metadata": {
        "id": "c4oooWdvaEiq"
      }
    },
    {
      "cell_type": "code",
      "source": [
        "p,r,t=[float(x) for x in input().split()]\n",
        "\n",
        "si=(p*r*t)/100\n",
        "simple_interest=float(si)\n",
        "print(round(simple_interest,2))"
      ],
      "metadata": {
        "colab": {
          "base_uri": "https://localhost:8080/"
        },
        "id": "wBDJRktXaJkA",
        "outputId": "7f82b89a-749e-4721-e5db-22474ffee64e"
      },
      "execution_count": 8,
      "outputs": [
        {
          "output_type": "stream",
          "name": "stdout",
          "text": [
            "1000 2 5\n",
            "100.0\n"
          ]
        }
      ]
    },
    {
      "cell_type": "markdown",
      "source": [
        "You are given A = Length of a rectangle & B = breadth of a rectangle. Find its area “C”.\n",
        "\n",
        "(A and B are natural numbers)"
      ],
      "metadata": {
        "id": "iiRsPdmGaWV5"
      }
    },
    {
      "cell_type": "code",
      "source": [
        "a=int(input())\n",
        "b=int(input())\n",
        "c=a*b\n",
        "print(round(c,1))"
      ],
      "metadata": {
        "colab": {
          "base_uri": "https://localhost:8080/"
        },
        "id": "HtCmjkNTaXqn",
        "outputId": "0c435992-e651-481e-eebe-ff8b19a003ae"
      },
      "execution_count": 9,
      "outputs": [
        {
          "output_type": "stream",
          "name": "stdout",
          "text": [
            "2\n",
            "3\n",
            "6\n"
          ]
        }
      ]
    },
    {
      "cell_type": "markdown",
      "source": [
        "You are given three numbers A, B & C. Print the largest amongst these three numbers."
      ],
      "metadata": {
        "id": "C-4MHYqvafG-"
      }
    },
    {
      "cell_type": "code",
      "source": [
        "a=int(input())\n",
        "b=int(input())\n",
        "c=int(input())\n",
        "if a>=b and a>=c:\n",
        "    print(a)\n",
        "elif b>=a and b>=c:\n",
        "    print(b)\n",
        "else:\n",
        "    print(c)"
      ],
      "metadata": {
        "colab": {
          "base_uri": "https://localhost:8080/"
        },
        "id": "jR8viZD_ajOY",
        "outputId": "f3a24da1-a0bb-4766-f77e-23b1b970eeed"
      },
      "execution_count": 10,
      "outputs": [
        {
          "output_type": "stream",
          "name": "stdout",
          "text": [
            "1\n",
            "2\n",
            "3\n",
            "3\n"
          ]
        }
      ]
    },
    {
      "cell_type": "markdown",
      "source": [
        "You are provided with a number \"N\", Find the Nth term of the series: 1, 4, 9, 16, 25, 36, 49, 64, 81, .......\n"
      ],
      "metadata": {
        "id": "bWPzvmjsam-Y"
      }
    },
    {
      "cell_type": "code",
      "source": [
        "n=int(input())\n",
        "if(n<=0):\n",
        "    print(n)\n",
        "else:\n",
        "    print(n*n)"
      ],
      "metadata": {
        "colab": {
          "base_uri": "https://localhost:8080/"
        },
        "id": "c18HNoj9avsf",
        "outputId": "b56eb2b5-fe38-4871-8f46-1045267f34d4"
      },
      "execution_count": 11,
      "outputs": [
        {
          "output_type": "stream",
          "name": "stdout",
          "text": [
            "18\n",
            "324\n"
          ]
        }
      ]
    },
    {
      "cell_type": "markdown",
      "source": [
        "You are provided with two numbers. Find and print the smaller number.\n",
        "\n"
      ],
      "metadata": {
        "id": "SOrtmMFda7Kz"
      }
    },
    {
      "cell_type": "code",
      "source": [
        "\n",
        "x, y = [int(x) for x in input().split()]\n",
        "if x<=y:\n",
        "    print(x)\n",
        "else:\n",
        "    print(y)"
      ],
      "metadata": {
        "colab": {
          "base_uri": "https://localhost:8080/"
        },
        "id": "4TDqaHnpa8pR",
        "outputId": "5910e28f-24e8-41ae-98e8-201d63ce5565"
      },
      "execution_count": 12,
      "outputs": [
        {
          "output_type": "stream",
          "name": "stdout",
          "text": [
            "23 1\n",
            "1\n"
          ]
        }
      ]
    },
    {
      "cell_type": "markdown",
      "source": [
        "Write a code to get an integer N and print values from 1 till N in a separate line.\n",
        "\n"
      ],
      "metadata": {
        "id": "tTz5xvq_bDqG"
      }
    },
    {
      "cell_type": "code",
      "source": [
        "n=int(input())\n",
        "for i in range(1,n+1):\n",
        "    print(i)"
      ],
      "metadata": {
        "colab": {
          "base_uri": "https://localhost:8080/"
        },
        "id": "uu9105vIbJJD",
        "outputId": "d79df7db-a6dd-4196-9edb-00aa97d961b8"
      },
      "execution_count": 13,
      "outputs": [
        {
          "output_type": "stream",
          "name": "stdout",
          "text": [
            "5\n",
            "1\n",
            "2\n",
            "3\n",
            "4\n",
            "5\n"
          ]
        }
      ]
    },
    {
      "cell_type": "markdown",
      "source": [
        "You are given the coefficients of a quadratic equation in order A, B & C.\n",
        "\n",
        "Where A is the coefficient of X2,  B is the coefficient of X and C is the constant term in the most simplified form.\n",
        "\n",
        "Example: For  X2 + 5X + 6 = 0, you are given the input as: 1 5 6.\n",
        "\n",
        "Write a program to find all of the roots of the quadratic.\n",
        "\n",
        "Note: The output should be up to 2nd decimal place (round off if needed) and in case of a recurring decimal use braces i.e. for eg: 0.33333..... => 0.33.\n",
        "\n",
        "Note: Use Shri Dharacharya's Method to solve i.e. X = {-b + √(b² - 4ac) } / 2a & {-b-√(b² -4ac)} / 2a"
      ],
      "metadata": {
        "id": "ZfbQcjx9bdXs"
      }
    },
    {
      "cell_type": "code",
      "source": [
        "import math  \n",
        "a,b,c=(float(x) for x in input().split())\n",
        "d = (b**2) - (4*a*c)  \n",
        "x = (-b-math.sqrt(d))/(2*a)  \n",
        "X = (-b+math.sqrt(d))/(2*a)  \n",
        "print(format(X,'.2f')) \n",
        "print(format(x,'.2f')) "
      ],
      "metadata": {
        "colab": {
          "base_uri": "https://localhost:8080/"
        },
        "id": "JVARTfDbbpBC",
        "outputId": "89046931-29f2-43df-8e70-616f0c784c66"
      },
      "execution_count": 14,
      "outputs": [
        {
          "output_type": "stream",
          "name": "stdout",
          "text": [
            "1 5 6\n",
            "-2.00\n",
            "-3.00\n"
          ]
        }
      ]
    },
    {
      "cell_type": "markdown",
      "source": [
        "Write a code to get the input and print it 5 times.\n",
        "\n"
      ],
      "metadata": {
        "id": "Grok19tCcU53"
      }
    },
    {
      "cell_type": "code",
      "source": [
        "\n",
        "a=int(input())\n",
        "for x in range(5):\n",
        "    x=str(a)\n",
        "    print(x)"
      ],
      "metadata": {
        "colab": {
          "base_uri": "https://localhost:8080/"
        },
        "id": "YyaqujdocblX",
        "outputId": "d681c70a-a89d-4cb7-ce4d-98d4677b2f47"
      },
      "execution_count": 15,
      "outputs": [
        {
          "output_type": "stream",
          "name": "stdout",
          "text": [
            "4\n",
            "4\n",
            "4\n",
            "4\n",
            "4\n",
            "4\n"
          ]
        }
      ]
    },
    {
      "cell_type": "markdown",
      "source": [
        "Write a code to get 2 integers A and N. Print the integer A, N times in separate line.\n",
        "\n"
      ],
      "metadata": {
        "id": "YOFFW-pWchg_"
      }
    },
    {
      "cell_type": "code",
      "source": [
        "a,b=[int(x) for x in input().split()]\n",
        "for x in range(b):\n",
        "    x=str(a)\n",
        "    print(x)"
      ],
      "metadata": {
        "colab": {
          "base_uri": "https://localhost:8080/"
        },
        "id": "jENRxHKmcwHp",
        "outputId": "85940476-2bd8-4682-e0e7-68f590969090"
      },
      "execution_count": 16,
      "outputs": [
        {
          "output_type": "stream",
          "name": "stdout",
          "text": [
            "2 3\n",
            "2\n",
            "2\n",
            "2\n"
          ]
        }
      ]
    },
    {
      "cell_type": "markdown",
      "source": [
        "Write a code to get an integer N and print the even values from 1 till N in a separate line.\n",
        "\n"
      ],
      "metadata": {
        "id": "AzU5Laekc4A3"
      }
    },
    {
      "cell_type": "code",
      "source": [
        "n = int(input())\n",
        "\n",
        "for number in range(1, n+1):\n",
        "    if(number % 2 == 0):\n",
        "        print(\"{0}\".format(number))"
      ],
      "metadata": {
        "colab": {
          "base_uri": "https://localhost:8080/"
        },
        "id": "vWndFKylc2lT",
        "outputId": "72706d6f-a94d-4dbf-b61d-5f0897daf9ef"
      },
      "execution_count": 17,
      "outputs": [
        {
          "output_type": "stream",
          "name": "stdout",
          "text": [
            "6\n",
            "2\n",
            "4\n",
            "6\n"
          ]
        }
      ]
    },
    {
      "cell_type": "markdown",
      "source": [
        "Let \"A\"  be a string. Remove all the whitespaces and find it's length.\n"
      ],
      "metadata": {
        "id": "Vx6r9LmldCN5"
      }
    },
    {
      "cell_type": "code",
      "source": [
        "a=str(input())\n",
        "x=a.replace(\" \",\"\")\n",
        "print(len(x))"
      ],
      "metadata": {
        "colab": {
          "base_uri": "https://localhost:8080/"
        },
        "id": "AvCqOjoBdGUG",
        "outputId": "6fe86781-96f7-4fc0-9f1d-a8791c19ca8a"
      },
      "execution_count": 18,
      "outputs": [
        {
          "output_type": "stream",
          "name": "stdout",
          "text": [
            "Lorem Ipsum\n",
            "10\n"
          ]
        }
      ]
    },
    {
      "cell_type": "markdown",
      "source": [
        "Write a code to get an integer N and print the values from N to 1.\n",
        "\n"
      ],
      "metadata": {
        "id": "9lIcLxzjdNHJ"
      }
    },
    {
      "cell_type": "code",
      "source": [
        "n=int(input())\n",
        "i = n\n",
        "while ( i >= 1):\n",
        "    print (i, end = '\\n')\n",
        "    i = i - 1"
      ],
      "metadata": {
        "colab": {
          "base_uri": "https://localhost:8080/"
        },
        "id": "ATZ9mIHJdST3",
        "outputId": "a5783414-0da3-44b5-aea9-7f959f5b6fe6"
      },
      "execution_count": 19,
      "outputs": [
        {
          "output_type": "stream",
          "name": "stdout",
          "text": [
            "10\n",
            "10\n",
            "9\n",
            "8\n",
            "7\n",
            "6\n",
            "5\n",
            "4\n",
            "3\n",
            "2\n",
            "1\n"
          ]
        }
      ]
    },
    {
      "cell_type": "markdown",
      "source": [
        "Write a code to get an integer N and print the sum of  values from 1 to N.\n",
        "\n"
      ],
      "metadata": {
        "id": "nIBqTfJZdZ1o"
      }
    },
    {
      "cell_type": "code",
      "source": [
        "number=int(input())\n",
        "sum = 0\n",
        "for value in range(1, number + 1):\n",
        "    sum = sum + value\n",
        "print(sum)"
      ],
      "metadata": {
        "colab": {
          "base_uri": "https://localhost:8080/"
        },
        "id": "_1gEHxP6dbAa",
        "outputId": "e00947a2-a3aa-44e9-92b7-7ae1814bbf1f"
      },
      "execution_count": 20,
      "outputs": [
        {
          "output_type": "stream",
          "name": "stdout",
          "text": [
            "10\n",
            "55\n"
          ]
        }
      ]
    },
    {
      "cell_type": "markdown",
      "source": [
        "Write a program to get a string as input and reverse the string without using temporary variable.\n"
      ],
      "metadata": {
        "id": "CeyREBn1dg3c"
      }
    },
    {
      "cell_type": "code",
      "source": [
        "n=input()[::-1]\n",
        "print(n)"
      ],
      "metadata": {
        "colab": {
          "base_uri": "https://localhost:8080/"
        },
        "id": "SYBjCgyOdm1m",
        "outputId": "53acc891-e72c-4637-e14f-b074323812ab"
      },
      "execution_count": 21,
      "outputs": [
        {
          "output_type": "stream",
          "name": "stdout",
          "text": [
            "GUVI\n",
            "IVUG\n"
          ]
        }
      ]
    },
    {
      "cell_type": "markdown",
      "source": [
        "You are given with a number \"N\", find its cube."
      ],
      "metadata": {
        "id": "QfBWLDVkdpi2"
      }
    },
    {
      "cell_type": "code",
      "source": [
        "n=float(input())\n",
        "cube=n*n*n\n",
        "print(cube)"
      ],
      "metadata": {
        "colab": {
          "base_uri": "https://localhost:8080/"
        },
        "id": "G6PK8kiRdvHp",
        "outputId": "ec2422d3-f9f2-4646-e395-991c925e54e8"
      },
      "execution_count": 22,
      "outputs": [
        {
          "output_type": "stream",
          "name": "stdout",
          "text": [
            "2\n",
            "8.0\n"
          ]
        }
      ]
    },
    {
      "cell_type": "markdown",
      "source": [
        "Write a code to get an integer N and print the digits of the integer."
      ],
      "metadata": {
        "id": "clDzPUJnd1Vq"
      }
    },
    {
      "cell_type": "code",
      "source": [
        "a=input()\n",
        "print(*a)"
      ],
      "metadata": {
        "colab": {
          "base_uri": "https://localhost:8080/"
        },
        "id": "px6RXNUDd-5l",
        "outputId": "0095faad-07c7-4a0e-c064-45939c477746"
      },
      "execution_count": 23,
      "outputs": [
        {
          "output_type": "stream",
          "name": "stdout",
          "text": [
            "348\n",
            "3 4 8\n"
          ]
        }
      ]
    },
    {
      "cell_type": "markdown",
      "source": [
        "Let \"A\" be a year, write a program to check whether this year is a leap year or not.\n",
        "\n",
        "Print \"Y\" if its a leap year and \"N\" if its a common year."
      ],
      "metadata": {
        "id": "W27yNZk6eDzY"
      }
    },
    {
      "cell_type": "code",
      "source": [
        "x=int(input())\n",
        "if(x%4==0):\n",
        "    print(\"Y\")\n",
        "else:\n",
        "    print(\"N\")"
      ],
      "metadata": {
        "colab": {
          "base_uri": "https://localhost:8080/"
        },
        "id": "40sYla_beJ-H",
        "outputId": "f147f1a0-4ecd-4177-e768-e596ce51d42b"
      },
      "execution_count": 24,
      "outputs": [
        {
          "output_type": "stream",
          "name": "stdout",
          "text": [
            "2020\n",
            "Y\n"
          ]
        }
      ]
    },
    {
      "cell_type": "markdown",
      "source": [
        "You will be provided with a number. Print the number of days in the month corresponding to that number.\n",
        "\n",
        "Note: In case the input is February, print 28 days. If the Input is not in valid range print \"Error\"."
      ],
      "metadata": {
        "id": "hn35Dy0JeMXK"
      }
    },
    {
      "cell_type": "code",
      "source": [
        "a=int(input())\n",
        "b=[1,3,5,7,8,10,12]\n",
        "c=[4,6,9]\n",
        "d=[2]\n",
        "if a in b:\n",
        "    print(\"31\")\n",
        "elif a in c:\n",
        "    print(\"30\")\n",
        "elif a in d:\n",
        "    print(\"28\")\n",
        "else:\n",
        "    print(\"Error\")"
      ],
      "metadata": {
        "colab": {
          "base_uri": "https://localhost:8080/"
        },
        "id": "ZnuoOUzYeRQm",
        "outputId": "5906a9ee-9b67-4fd7-d6de-41fc6fc0cff1"
      },
      "execution_count": 25,
      "outputs": [
        {
          "output_type": "stream",
          "name": "stdout",
          "text": [
            "8\n",
            "31\n"
          ]
        }
      ]
    },
    {
      "cell_type": "markdown",
      "source": [
        "Write a code get an integer number as input and print the odd and even digits of the number separately.\n"
      ],
      "metadata": {
        "id": "2sAT8dereahl"
      }
    },
    {
      "cell_type": "code",
      "source": [
        "n=input()\n",
        "even=[]\n",
        "odd=[]\n",
        "for i in n:\n",
        "    if (int(i))%2==0:\n",
        "        even.append(i)\n",
        "    else:\n",
        "        odd.append(i)\n",
        "even.sort()\n",
        "odd.sort()\n",
        "print(*even)\n",
        "print(*odd)"
      ],
      "metadata": {
        "colab": {
          "base_uri": "https://localhost:8080/"
        },
        "id": "hr1ik6gpebng",
        "outputId": "bd173974-6f03-4649-8321-12d16b01cf1d"
      },
      "execution_count": 26,
      "outputs": [
        {
          "output_type": "stream",
          "name": "stdout",
          "text": [
            "1234\n",
            "2 4\n",
            "1 3\n"
          ]
        }
      ]
    },
    {
      "cell_type": "markdown",
      "source": [
        "Write a code to get 2 integers as input and find the HCF of the 2 integer without using recursion or Euclidean algorithm.\n",
        "\n"
      ],
      "metadata": {
        "id": "vtEODzFXegQb"
      }
    },
    {
      "cell_type": "code",
      "source": [
        "x,y=(int(i) for i in input().split())\n",
        "if x>y:\n",
        "  small=y\n",
        "else:\n",
        "  small=x\n",
        "for i in range(1,small+1):\n",
        "  if x%i==0 and y%i==0:\n",
        "    hcf=i\n",
        "print(hcf)"
      ],
      "metadata": {
        "colab": {
          "base_uri": "https://localhost:8080/"
        },
        "id": "SbJQ7m8Cek8D",
        "outputId": "6fcf7649-e87e-4914-a772-9a774a6398fe"
      },
      "execution_count": 27,
      "outputs": [
        {
          "output_type": "stream",
          "name": "stdout",
          "text": [
            "2 3\n",
            "1\n"
          ]
        }
      ]
    },
    {
      "cell_type": "markdown",
      "source": [
        "Write a code get an integer number as input and print the sum of the digits.\n",
        "\n"
      ],
      "metadata": {
        "id": "W4Y-BTBvetKQ"
      }
    },
    {
      "cell_type": "code",
      "source": [
        "number =input()\n",
        "\n",
        "sum_of_digits = 0\n",
        "for digit in str(number):\n",
        "    sum_of_digits += int(digit)\n",
        "print(sum_of_digits)"
      ],
      "metadata": {
        "colab": {
          "base_uri": "https://localhost:8080/"
        },
        "id": "ZrN0x-e1et-u",
        "outputId": "f96d2758-1218-4b5f-9bb0-34df2816a354"
      },
      "execution_count": 28,
      "outputs": [
        {
          "output_type": "stream",
          "name": "stdout",
          "text": [
            "124\n",
            "7\n"
          ]
        }
      ]
    },
    {
      "cell_type": "markdown",
      "source": [
        "You are given a number A in Kilometers. Convert this into B: Meters and C: Centi-Metres."
      ],
      "metadata": {
        "id": "ynedwc_HeylS"
      }
    },
    {
      "cell_type": "code",
      "source": [
        "a=int(input())\n",
        "m=a*1000\n",
        "cm=a*100000\n",
        "print(m)\n",
        "print(cm)"
      ],
      "metadata": {
        "colab": {
          "base_uri": "https://localhost:8080/"
        },
        "id": "y_yPK6B1e3PU",
        "outputId": "45e7645a-56e4-41dc-b38f-b896da521234"
      },
      "execution_count": 30,
      "outputs": [
        {
          "output_type": "stream",
          "name": "stdout",
          "text": [
            "2\n",
            "2000\n",
            "200000\n"
          ]
        }
      ]
    },
    {
      "cell_type": "markdown",
      "source": [
        "Print the First 3 multiples of the given number \"N\". (N is a positive integer)\n",
        "\n",
        "Note: print the characters with a single space between them."
      ],
      "metadata": {
        "id": "yqpdfcmnfC9N"
      }
    },
    {
      "cell_type": "code",
      "source": [
        "multiples = []\n",
        "N = int(input())\n",
        "for i in range(1, 4):\n",
        "    multiples.append(N*i)\n",
        "print(*multiples)"
      ],
      "metadata": {
        "colab": {
          "base_uri": "https://localhost:8080/"
        },
        "id": "iIIxGNsofIqR",
        "outputId": "299c47e5-8468-4c1a-fcca-5781b5ed385f"
      },
      "execution_count": 31,
      "outputs": [
        {
          "output_type": "stream",
          "name": "stdout",
          "text": [
            "2\n",
            "2 4 6\n"
          ]
        }
      ]
    }
  ]
}