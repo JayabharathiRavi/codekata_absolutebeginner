{
  "nbformat": 4,
  "nbformat_minor": 0,
  "metadata": {
    "colab": {
      "provenance": [],
      "authorship_tag": "ABX9TyOPHZYM6vzQOaLR2pgzBmLf",
      "include_colab_link": true
    },
    "kernelspec": {
      "name": "python3",
      "display_name": "Python 3"
    },
    "language_info": {
      "name": "python"
    }
  },
  "cells": [
    {
      "cell_type": "markdown",
      "metadata": {
        "id": "view-in-github",
        "colab_type": "text"
      },
      "source": [
        "<a href=\"https://colab.research.google.com/github/JayabharathiRavi/codekata_solved/blob/main/codekata_numbers.ipynb\" target=\"_parent\"><img src=\"https://colab.research.google.com/assets/colab-badge.svg\" alt=\"Open In Colab\"/></a>"
      ]
    },
    {
      "cell_type": "code",
      "execution_count": null,
      "metadata": {
        "id": "mMB2mj5eyYKa"
      },
      "outputs": [],
      "source": [
        "#Numbers"
      ]
    },
    {
      "cell_type": "markdown",
      "source": [
        "You are given with an array of numbers, Your task is to print the difference of indices of largest and smallest number.All number are unique.\n",
        "\n"
      ],
      "metadata": {
        "id": "MqNPRIUlymZg"
      }
    },
    {
      "cell_type": "code",
      "source": [
        "n=int(input())\n",
        "arr=list(map(int,input().split()))\n",
        "p=arr.index(max(arr))-arr.index(min(arr))\n",
        "print(p)"
      ],
      "metadata": {
        "colab": {
          "base_uri": "https://localhost:8080/"
        },
        "id": "MWC6AFR_ynY2",
        "outputId": "40b85512-91fc-414e-802a-4c515460e973"
      },
      "execution_count": 1,
      "outputs": [
        {
          "output_type": "stream",
          "name": "stdout",
          "text": [
            "5\n",
            "1 6 4 0 3\n",
            "-2\n"
          ]
        }
      ]
    },
    {
      "cell_type": "markdown",
      "source": [
        "You are provided with a number ’n’. Your task is to tell whether that number is saturated. A saturated number is a number which is made by exactly two digits.\n"
      ],
      "metadata": {
        "id": "xNGXNtOryuWA"
      }
    },
    {
      "cell_type": "code",
      "source": [
        "n=input()\n",
        "l=list(n)\n",
        "s=set(l)\n",
        "if len(s)==2:\n",
        "    print('Saturated')\n",
        "else:\n",
        "    print(\"Unsaturated\")"
      ],
      "metadata": {
        "colab": {
          "base_uri": "https://localhost:8080/"
        },
        "id": "rupOvVbnyuv-",
        "outputId": "ba74cce1-3a00-4a0e-9a6e-8771f1b57805"
      },
      "execution_count": 2,
      "outputs": [
        {
          "output_type": "stream",
          "name": "stdout",
          "text": [
            "121\n",
            "Saturated\n"
          ]
        }
      ]
    },
    {
      "cell_type": "markdown",
      "source": [
        "You are given a number ‘n’. You have to tell whether a number is great or not. A great number is a number whose sum of digits let (m) and product of digits let(j) when summed together gives the number back\n",
        "\n",
        "m+j=n"
      ],
      "metadata": {
        "id": "AoxSG3r4y_MB"
      }
    },
    {
      "cell_type": "code",
      "source": [
        "number=input()\n",
        "b=int(number)\n",
        "sum= 0\n",
        "product=1\n",
        "for digit in number:\n",
        "    sum += int(digit)\n",
        "    product*=int(digit)\n",
        "#a=sum+product\n",
        "if (sum+product)==b:\n",
        "  print(\"Great\")\n",
        "else:\n",
        "  print(\"no\")\n"
      ],
      "metadata": {
        "colab": {
          "base_uri": "https://localhost:8080/"
        },
        "id": "0cGqh2ltzAO3",
        "outputId": "06bed9f0-af0f-4bc5-f984-98e6ac74a860"
      },
      "execution_count": 3,
      "outputs": [
        {
          "output_type": "stream",
          "name": "stdout",
          "text": [
            "59\n",
            "Great\n"
          ]
        }
      ]
    },
    {
      "cell_type": "markdown",
      "source": [
        "Prateek finds it difficult to judge the minimum element in the list of elements given to him. Your task is to develop the algorithm in order to find the minimum element.\n",
        "\n"
      ],
      "metadata": {
        "id": "huZ6pcb1zHya"
      }
    },
    {
      "cell_type": "code",
      "source": [
        "n=input()\n",
        "x=[x for x in input().split()]\n",
        "y=sorted(x)\n",
        "print(y[0])"
      ],
      "metadata": {
        "colab": {
          "base_uri": "https://localhost:8080/"
        },
        "id": "NUyg0AwPzIzx",
        "outputId": "ab4eae36-7f77-4450-c102-acc50603b7c8"
      },
      "execution_count": 4,
      "outputs": [
        {
          "output_type": "stream",
          "name": "stdout",
          "text": [
            "5\n",
            "3 4 9 1 6\n",
            "1\n"
          ]
        }
      ]
    },
    {
      "cell_type": "markdown",
      "source": [
        "You are given a number ‘n’.Your task is to develop an algorithm to tell whether the number is ‘ajs’ or not.An ‘ajs’ number is a number whose sum of first two digits is present in given number ‘n’\n",
        "\n"
      ],
      "metadata": {
        "id": "mg-OqIuyzRbb"
      }
    },
    {
      "cell_type": "code",
      "source": [
        "n=input()\n",
        "a=list(n)\n",
        "b=sorted(a)\n",
        "c=a[0]+a[1]\n",
        "sum=0\n",
        "for i in c:\n",
        "  sum+=int(i)\n",
        "s=str(sum)\n",
        "#print(s)\n",
        "if s in n:\n",
        "  print('1')\n",
        "else:\n",
        "  print('0')"
      ],
      "metadata": {
        "colab": {
          "base_uri": "https://localhost:8080/"
        },
        "id": "AJ04UUkJzSuu",
        "outputId": "2e184cd7-6afa-408d-935d-04d709bebe74"
      },
      "execution_count": 5,
      "outputs": [
        {
          "output_type": "stream",
          "name": "stdout",
          "text": [
            "9817\n",
            "1\n"
          ]
        }
      ]
    },
    {
      "cell_type": "markdown",
      "source": [
        "In a garage the service man takes 10 minutes to service one car.If there are N cars in garage and X is number of minutes after which one person arrives,Calculate how much time last person has to wait in garage.(Print answer in minutes)\n",
        "\n"
      ],
      "metadata": {
        "id": "vaDB2Wd6zalA"
      }
    },
    {
      "cell_type": "code",
      "source": [
        "x,y=(int(x) for x in input().split())\n",
        "a=((x-1)*10-(x-1)*y)\n",
        "print(a)"
      ],
      "metadata": {
        "colab": {
          "base_uri": "https://localhost:8080/"
        },
        "id": "O3yafFlUzbdB",
        "outputId": "7068bded-e6ce-414b-e5f0-203aed5d4f40"
      },
      "execution_count": 6,
      "outputs": [
        {
          "output_type": "stream",
          "name": "stdout",
          "text": [
            "4 5\n",
            "15\n"
          ]
        }
      ]
    },
    {
      "cell_type": "markdown",
      "source": [
        "you are given with ‘arasu’ series(shown in example).You have to understand it and you will be given a number ‘n’ ,you have to print the series till n numbers.\n",
        "\n"
      ],
      "metadata": {
        "id": "V-Z_bEFLzhAy"
      }
    },
    {
      "cell_type": "code",
      "source": [
        "n=int(input())\n",
        "a=[]\n",
        "for i in range(1,n+1):\n",
        "    a.append((i*i)+1)\n",
        "print(*a)"
      ],
      "metadata": {
        "colab": {
          "base_uri": "https://localhost:8080/"
        },
        "id": "PwGrbUYezjtt",
        "outputId": "ee38dbd2-201b-43ab-e761-f76702e66d76"
      },
      "execution_count": 7,
      "outputs": [
        {
          "output_type": "stream",
          "name": "stdout",
          "text": [
            "4\n",
            "2 5 10 17\n"
          ]
        }
      ]
    },
    {
      "cell_type": "markdown",
      "source": [
        "Jack is fond of numbers. He has given an array.He has to find the maximum length of sub array such that sum of elements in that sub array gives output 0.He is in little trouble, help him in finding solution\n",
        "\n"
      ],
      "metadata": {
        "id": "9yVrkWmKzqn2"
      }
    },
    {
      "cell_type": "code",
      "source": [
        "n=input()\n",
        "x=[x for x in input().split()]\n",
        "sum=0\n",
        "a=[]\n",
        "for i in x:\n",
        "    i=int(i)\n",
        "    if i==0: a.append(i)\n",
        "    sum=sum+i\n",
        "    if sum==0:\n",
        "        a.append(sum)\n",
        "print(len(a))"
      ],
      "metadata": {
        "colab": {
          "base_uri": "https://localhost:8080/"
        },
        "id": "ypdxHlXozrkr",
        "outputId": "9fb56cf3-aef9-41e8-f8dc-bd224ef5c1fc"
      },
      "execution_count": 8,
      "outputs": [
        {
          "output_type": "stream",
          "name": "stdout",
          "text": [
            "6\n",
            "-4 3 1 0 0 6\n",
            "5\n"
          ]
        }
      ]
    },
    {
      "cell_type": "markdown",
      "source": [
        "Assume that you are ticket verifier at a club. Your club has decided to give a special discount to the person(s) who are satisfying the following condition\n",
        "\n",
        " \n",
        "\n",
        "Condition:-\n",
        "\n",
        "If ticket number is divisible by date of month. You are eligible for a discount."
      ],
      "metadata": {
        "id": "UPp-mfNYz5OL"
      }
    },
    {
      "cell_type": "code",
      "source": [
        "n=input()\n",
        "x=map(int,input().split())\n",
        "k=int(input())\n",
        "a=[]\n",
        "for i in x:\n",
        "    if i%k==0:\n",
        "        a.append(1)\n",
        "    else:\n",
        "        a.append(0)\n",
        "print(*a)\n"
      ],
      "metadata": {
        "colab": {
          "base_uri": "https://localhost:8080/"
        },
        "id": "wHbtgLdfz8KR",
        "outputId": "962f3d0a-1909-4c63-f135-34b1c4698beb"
      },
      "execution_count": 9,
      "outputs": [
        {
          "output_type": "stream",
          "name": "stdout",
          "text": [
            "6\n",
            "112 139 165 175 262 130\n",
            "22\n",
            "0 0 0 0 0 0\n"
          ]
        }
      ]
    },
    {
      "cell_type": "markdown",
      "source": [
        "you are given with array of numbers.you have to find whether array is beautiful or not. A beautiful array is an array whose sum of all numbers is divisible by 2, 3 and 5\n",
        "\n"
      ],
      "metadata": {
        "id": "sOXE0GIa0DCL"
      }
    },
    {
      "cell_type": "code",
      "source": [
        "n=input()\n",
        "arr=(x for x in input().split())\n",
        "for i in arr:\n",
        "    sum=0\n",
        "    sum=sum+int(i)\n",
        "if sum%2==0:\n",
        "\n",
        "    if sum%3==0:\n",
        "        if sum%5==0:\n",
        "            print(\"1\")\n",
        "else:\n",
        "    print(\"0\")"
      ],
      "metadata": {
        "colab": {
          "base_uri": "https://localhost:8080/"
        },
        "id": "HYu0O2Zr0IbS",
        "outputId": "7e0505c4-b758-4757-bc83-c47289e16fd2"
      },
      "execution_count": 10,
      "outputs": [
        {
          "output_type": "stream",
          "name": "stdout",
          "text": [
            "5\n",
            "5 25 35 -5 30\n",
            "1\n"
          ]
        }
      ]
    },
    {
      "cell_type": "markdown",
      "source": [
        "You are given an array of digits. Your task is to print the digit with maximum frequency.\n",
        "\n"
      ],
      "metadata": {
        "id": "08G-UIF90Ssm"
      }
    },
    {
      "cell_type": "code",
      "source": [
        "n=input()\n",
        "x=list(x for x in input().split())\n",
        "a=[]\n",
        "for i in x:\n",
        "    if x.count(i)>1:\n",
        "        a.append(i)\n",
        "if len(set(a))>1:\n",
        "    print(a[0])\n",
        "else:\n",
        "    print(*(set(a)))"
      ],
      "metadata": {
        "colab": {
          "base_uri": "https://localhost:8080/"
        },
        "id": "0B9y8PSY0Vdb",
        "outputId": "4c41d012-fc5c-4e5e-c4cf-65b2c1be130b"
      },
      "execution_count": 11,
      "outputs": [
        {
          "output_type": "stream",
          "name": "stdout",
          "text": [
            "7\n",
            "1 2 3 4 4 4 5\n",
            "4\n"
          ]
        }
      ]
    },
    {
      "cell_type": "markdown",
      "source": [
        "Rahul was learning about numbers in list. He came across one word ground of a number.\n",
        "\n",
        "A ground of a number is defined as the number which is just smaller or equal to the number given to you.Hence he started solving some assignments related to it. He got struck in some questions. Your task is to help him.\n",
        "\n",
        " \n",
        "\n",
        "O(n) time complexity\n",
        "\n",
        "O(n) Auxilary space"
      ],
      "metadata": {
        "id": "3a5WCPHH0awh"
      }
    },
    {
      "cell_type": "code",
      "source": [
        "n,k=map(int,input().split())\n",
        "x=list(map(int,input().split()))\n",
        "r=[]\n",
        "for i in range(k,-1,-1):\n",
        "  r.append(i)\n",
        "a=[]\n",
        "if k in x:\n",
        "  print(x.index(k))\n",
        "elif k not in x:\n",
        "  for i in x:\n",
        "    if i in r: a.append(i)\n",
        "  if len(a)!=0:\n",
        "    print(x.index(max(a)))\n",
        "  else:\n",
        "    print(-1)\n"
      ],
      "metadata": {
        "colab": {
          "base_uri": "https://localhost:8080/"
        },
        "id": "KtCatEhx0jAq",
        "outputId": "4027ff75-49cd-4ca9-db2c-2573ea7e0a9e"
      },
      "execution_count": 12,
      "outputs": [
        {
          "output_type": "stream",
          "name": "stdout",
          "text": [
            "7 3\n",
            "1 2 3 4 5 6 7\n",
            "2\n"
          ]
        }
      ]
    },
    {
      "cell_type": "markdown",
      "source": [
        "Rampal is a number in which the sum of last two digits of that number is multiple of 4.Your teacher has given you the task to make a list of rampal numbers.Your task is to tell whether the number is rampal or not.\n",
        "\n",
        " \n",
        "\n",
        "Note : if the number is negative than rampal is a number which has sum of first and last digit as multiple of 4 "
      ],
      "metadata": {
        "id": "Sb7pjTFA0rXK"
      }
    },
    {
      "cell_type": "code",
      "source": [
        "n=(input())\n",
        "m=list(n)\n",
        "a=len(m)\n",
        "if int(n)>0:\n",
        "    x=int(m[a-1])\n",
        "    y=int(m[a-2])\n",
        "    sum=x+y\n",
        "    if sum%4==0:\n",
        "        print(\"yes\")\n",
        "    else:\n",
        "        print(\"no\")\n",
        "else:\n",
        "    x=int(m[a-1])\n",
        "    y=int(m[a-2])\n",
        "    sum=x+y\n",
        "    if sum%4==0:\n",
        "        print(\"yes\")\n",
        "    else:\n",
        "        print(\"no\")\n"
      ],
      "metadata": {
        "colab": {
          "base_uri": "https://localhost:8080/"
        },
        "id": "ODtwVi9-0t3b",
        "outputId": "8d7f2fbc-b951-4edd-cdf9-72d7845dc58b"
      },
      "execution_count": 13,
      "outputs": [
        {
          "output_type": "stream",
          "name": "stdout",
          "text": [
            "20\n",
            "no\n"
          ]
        }
      ]
    }
  ]
}